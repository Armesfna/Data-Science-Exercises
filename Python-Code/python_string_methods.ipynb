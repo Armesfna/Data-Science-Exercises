{
 "cells": [
  {
   "cell_type": "markdown",
   "id": "23253d8e",
   "metadata": {},
   "source": [
    "# Python String Metodları Üzerinde Uygulama"
   ]
  },
  {
   "cell_type": "markdown",
   "id": "c2567c23",
   "metadata": {},
   "source": [
    "## Data"
   ]
  },
  {
   "cell_type": "code",
   "execution_count": null,
   "id": "31cb7199",
   "metadata": {},
   "outputs": [],
   "source": [
    "\n",
    "data_text = \"Python programlama dili, dünya çapında milyonlarca geliştirici tarafından kullanılmaktadır. 1991 yılında Guido van Rossum tarafından geliştirilen Python, yüksek seviyeli, genel amaçlı bir programlama dilidir. Sözdizimi açık ve okunabilir olmasıyla bilinir. Python'un birçok kütüphanesi ve çerçevesi vardır, bu da onu web geliştirme, veri bilimi, yapay zeka, bilimsel hesaplamalar, otomasyon ve birçok diğer alanlarda popüler bir seçim haline getirir.\"\n"
   ]
  },
  {
   "cell_type": "code",
   "execution_count": 1,
   "id": "8a7f3af6",
   "metadata": {},
   "outputs": [],
   "source": [
    "\n",
    "data_text = \"Python programlama dili, dünya çapında milyonlarca geliştirici tarafından kullanılmaktadır. 1991 yılında Guido van Rossum tarafından geliştirilen Python, yüksek seviyeli, genel amaçlı bir programlama dilidir. Sözdizimi açık ve okunabilir olmasıyla bilinir. Python'un birçok kütüphanesi ve çerçevesi vardır, bu da onu web geliştirme, veri bilimi, yapay zeka, bilimsel hesaplamalar, otomasyon ve birçok diğer alanlarda popüler bir seçim haline getirir.\"\n"
   ]
  },
  {
   "cell_type": "markdown",
   "id": "949614e7",
   "metadata": {},
   "source": [
    "## Sorular"
   ]
  },
  {
   "cell_type": "markdown",
   "id": "e789376b",
   "metadata": {},
   "source": [
    "Metnin baş harfini büyük yapın."
   ]
  },
  {
   "cell_type": "code",
   "execution_count": 2,
   "id": "47d44a90",
   "metadata": {},
   "outputs": [
    {
     "data": {
      "text/plain": [
       "\"Python programlama dili, dünya çapında milyonlarca geliştirici tarafından kullanılmaktadır. 1991 yılında guido van rossum tarafından geliştirilen python, yüksek seviyeli, genel amaçlı bir programlama dilidir. sözdizimi açık ve okunabilir olmasıyla bilinir. python'un birçok kütüphanesi ve çerçevesi vardır, bu da onu web geliştirme, veri bilimi, yapay zeka, bilimsel hesaplamalar, otomasyon ve birçok diğer alanlarda popüler bir seçim haline getirir.\""
      ]
     },
     "execution_count": 2,
     "metadata": {},
     "output_type": "execute_result"
    }
   ],
   "source": [
    "data_text.capitalize()"
   ]
  },
  {
   "cell_type": "markdown",
   "id": "fae7c0f1",
   "metadata": {},
   "source": [
    "Metni küçük harflere çevirin."
   ]
  },
  {
   "cell_type": "code",
   "execution_count": 3,
   "id": "4545fd74",
   "metadata": {},
   "outputs": [
    {
     "data": {
      "text/plain": [
       "\"python programlama dili, dünya çapında milyonlarca geliştirici tarafından kullanılmaktadır. 1991 yılında guido van rossum tarafından geliştirilen python, yüksek seviyeli, genel amaçlı bir programlama dilidir. sözdizimi açık ve okunabilir olmasıyla bilinir. python'un birçok kütüphanesi ve çerçevesi vardır, bu da onu web geliştirme, veri bilimi, yapay zeka, bilimsel hesaplamalar, otomasyon ve birçok diğer alanlarda popüler bir seçim haline getirir.\""
      ]
     },
     "execution_count": 3,
     "metadata": {},
     "output_type": "execute_result"
    }
   ],
   "source": [
    "data_text.casefold()"
   ]
  },
  {
   "cell_type": "markdown",
   "id": "97272b4d",
   "metadata": {},
   "source": [
    "Metni 100 karakter genişliğinde ortalanmış bir şekilde yazdırın, boşluklar yerine '-' karakteri kullanın."
   ]
  },
  {
   "cell_type": "code",
   "execution_count": 4,
   "id": "7279cf7c",
   "metadata": {},
   "outputs": [
    {
     "data": {
      "text/plain": [
       "\"Python-programlama-dili,-dünya-çapında-milyonlarca-geliştirici-tarafından-kullanılmaktadır.-1991-yılında-Guido-van-Rossum-tarafından-geliştirilen-Python,-yüksek-seviyeli,-genel-amaçlı-bir-programlama-dilidir.-Sözdizimi-açık-ve-okunabilir-olmasıyla-bilinir.-Python'un-birçok-kütüphanesi-ve-çerçevesi-vardır,-bu-da-onu-web-geliştirme,-veri-bilimi,-yapay-zeka,-bilimsel-hesaplamalar,-otomasyon-ve-birçok-diğer-alanlarda-popüler-bir-seçim-haline-getirir.\""
      ]
     },
     "execution_count": 4,
     "metadata": {},
     "output_type": "execute_result"
    }
   ],
   "source": [
    "data_text.replace(\" \",\"-\").center(100)"
   ]
  },
  {
   "cell_type": "code",
   "execution_count": 5,
   "id": "5e028ea3",
   "metadata": {},
   "outputs": [
    {
     "data": {
      "text/plain": [
       "\"Python programlama dili, dünya çapında milyonlarca geliştirici tarafından kullanılmaktadır. 1991 yılında Guido van Rossum tarafından geliştirilen Python, yüksek seviyeli, genel amaçlı bir programlama dilidir. Sözdizimi açık ve okunabilir olmasıyla bilinir. Python'un birçok kütüphanesi ve çerçevesi vardır, bu da onu web geliştirme, veri bilimi, yapay zeka, bilimsel hesaplamalar, otomasyon ve birçok diğer alanlarda popüler bir seçim haline getirir.\""
      ]
     },
     "execution_count": 5,
     "metadata": {},
     "output_type": "execute_result"
    }
   ],
   "source": [
    "data_text.center(100, \"-\")"
   ]
  },
  {
   "cell_type": "markdown",
   "id": "b38eccad",
   "metadata": {},
   "source": [
    "'Python' kelimesinin metinde kaç kez geçtiğini bulun."
   ]
  },
  {
   "cell_type": "code",
   "execution_count": 6,
   "id": "6c8b4dd5",
   "metadata": {},
   "outputs": [
    {
     "data": {
      "text/plain": [
       "3"
      ]
     },
     "execution_count": 6,
     "metadata": {},
     "output_type": "execute_result"
    }
   ],
   "source": [
    "data_text.count(\"Python\")"
   ]
  },
  {
   "cell_type": "markdown",
   "id": "56be33c6",
   "metadata": {},
   "source": [
    "Metni UTF-8 formatında encode edin."
   ]
  },
  {
   "cell_type": "code",
   "execution_count": 7,
   "id": "97836c06",
   "metadata": {},
   "outputs": [
    {
     "data": {
      "text/plain": [
       "b\"Python programlama dili, d\\xc3\\xbcnya \\xc3\\xa7ap\\xc4\\xb1nda milyonlarca geli\\xc5\\x9ftirici taraf\\xc4\\xb1ndan kullan\\xc4\\xb1lmaktad\\xc4\\xb1r. 1991 y\\xc4\\xb1l\\xc4\\xb1nda Guido van Rossum taraf\\xc4\\xb1ndan geli\\xc5\\x9ftirilen Python, y\\xc3\\xbcksek seviyeli, genel ama\\xc3\\xa7l\\xc4\\xb1 bir programlama dilidir. S\\xc3\\xb6zdizimi a\\xc3\\xa7\\xc4\\xb1k ve okunabilir olmas\\xc4\\xb1yla bilinir. Python'un bir\\xc3\\xa7ok k\\xc3\\xbct\\xc3\\xbcphanesi ve \\xc3\\xa7er\\xc3\\xa7evesi vard\\xc4\\xb1r, bu da onu web geli\\xc5\\x9ftirme, veri bilimi, yapay zeka, bilimsel hesaplamalar, otomasyon ve bir\\xc3\\xa7ok di\\xc4\\x9fer alanlarda pop\\xc3\\xbcler bir se\\xc3\\xa7im haline getirir.\""
      ]
     },
     "execution_count": 7,
     "metadata": {},
     "output_type": "execute_result"
    }
   ],
   "source": [
    "data_text.encode(\"utf-8\")"
   ]
  },
  {
   "cell_type": "markdown",
   "id": "8a1be9af",
   "metadata": {},
   "source": [
    "Metnin 'geliştirici' kelimesi ile bitip bitmediğini kontrol edin."
   ]
  },
  {
   "cell_type": "code",
   "execution_count": 8,
   "id": "9d87ad0f",
   "metadata": {},
   "outputs": [
    {
     "data": {
      "text/plain": [
       "'getirir.'"
      ]
     },
     "execution_count": 8,
     "metadata": {},
     "output_type": "execute_result"
    }
   ],
   "source": [
    "data_text.split()[-1]"
   ]
  },
  {
   "cell_type": "code",
   "execution_count": 9,
   "id": "f77d1c3d",
   "metadata": {},
   "outputs": [
    {
     "data": {
      "text/plain": [
       "False"
      ]
     },
     "execution_count": 9,
     "metadata": {},
     "output_type": "execute_result"
    }
   ],
   "source": [
    "data_text.endswith(\"geliştirici\")"
   ]
  },
  {
   "cell_type": "markdown",
   "id": "cb1b0c5c",
   "metadata": {},
   "source": [
    "Metinde 'Python' kelimesinin ilk bulunduğu indeksi bulun."
   ]
  },
  {
   "cell_type": "code",
   "execution_count": 11,
   "id": "9c086137",
   "metadata": {},
   "outputs": [
    {
     "data": {
      "text/plain": [
       "0"
      ]
     },
     "execution_count": 11,
     "metadata": {},
     "output_type": "execute_result"
    }
   ],
   "source": [
    "data_text.index(\"Python\")"
   ]
  },
  {
   "cell_type": "code",
   "execution_count": 12,
   "id": "4c0d505d",
   "metadata": {},
   "outputs": [
    {
     "data": {
      "text/plain": [
       "0"
      ]
     },
     "execution_count": 12,
     "metadata": {},
     "output_type": "execute_result"
    }
   ],
   "source": [
    "data_text.find(\"Python\")"
   ]
  },
  {
   "cell_type": "markdown",
   "id": "d097ad3c",
   "metadata": {},
   "source": [
    "Metni 'Python' kelimesine göre bölün."
   ]
  },
  {
   "cell_type": "code",
   "execution_count": 13,
   "id": "747b50cf",
   "metadata": {},
   "outputs": [
    {
     "data": {
      "text/plain": [
       "['',\n",
       " ' programlama dili, dünya çapında milyonlarca geliştirici tarafından kullanılmaktadır. 1991 yılında Guido van Rossum tarafından geliştirilen ',\n",
       " ', yüksek seviyeli, genel amaçlı bir programlama dilidir. Sözdizimi açık ve okunabilir olmasıyla bilinir. ',\n",
       " \"'un birçok kütüphanesi ve çerçevesi vardır, bu da onu web geliştirme, veri bilimi, yapay zeka, bilimsel hesaplamalar, otomasyon ve birçok diğer alanlarda popüler bir seçim haline getirir.\"]"
      ]
     },
     "execution_count": 13,
     "metadata": {},
     "output_type": "execute_result"
    }
   ],
   "source": [
    "data_text.split(\"Python\")"
   ]
  },
  {
   "cell_type": "markdown",
   "id": "78c192f5",
   "metadata": {},
   "source": [
    "Metindeki tüm boşlukları '-' ile değiştirin."
   ]
  },
  {
   "cell_type": "code",
   "execution_count": 14,
   "id": "ee72a858",
   "metadata": {},
   "outputs": [
    {
     "data": {
      "text/plain": [
       "\"Python-programlama-dili,-dünya-çapında-milyonlarca-geliştirici-tarafından-kullanılmaktadır.-1991-yılında-Guido-van-Rossum-tarafından-geliştirilen-Python,-yüksek-seviyeli,-genel-amaçlı-bir-programlama-dilidir.-Sözdizimi-açık-ve-okunabilir-olmasıyla-bilinir.-Python'un-birçok-kütüphanesi-ve-çerçevesi-vardır,-bu-da-onu-web-geliştirme,-veri-bilimi,-yapay-zeka,-bilimsel-hesaplamalar,-otomasyon-ve-birçok-diğer-alanlarda-popüler-bir-seçim-haline-getirir.\""
      ]
     },
     "execution_count": 14,
     "metadata": {},
     "output_type": "execute_result"
    }
   ],
   "source": [
    "data_text.replace(\" \", \"-\")"
   ]
  },
  {
   "cell_type": "markdown",
   "id": "8706a108",
   "metadata": {},
   "source": [
    "Metnin sağında ve solunda bulunan boşlukları temizleyin."
   ]
  },
  {
   "cell_type": "code",
   "execution_count": 15,
   "id": "09650faa",
   "metadata": {},
   "outputs": [
    {
     "data": {
      "text/plain": [
       "\"Python programlama dili, dünya çapında milyonlarca geliştirici tarafından kullanılmaktadır. 1991 yılında Guido van Rossum tarafından geliştirilen Python, yüksek seviyeli, genel amaçlı bir programlama dilidir. Sözdizimi açık ve okunabilir olmasıyla bilinir. Python'un birçok kütüphanesi ve çerçevesi vardır, bu da onu web geliştirme, veri bilimi, yapay zeka, bilimsel hesaplamalar, otomasyon ve birçok diğer alanlarda popüler bir seçim haline getirir.\""
      ]
     },
     "execution_count": 15,
     "metadata": {},
     "output_type": "execute_result"
    }
   ],
   "source": [
    "data_text.strip()"
   ]
  },
  {
   "cell_type": "markdown",
   "id": "7a0e151f",
   "metadata": {},
   "source": [
    "Metnin sadece alfabetik karakterler içerip içermediğini kontrol edin."
   ]
  },
  {
   "cell_type": "code",
   "execution_count": 16,
   "id": "4c859d83",
   "metadata": {},
   "outputs": [
    {
     "data": {
      "text/plain": [
       "False"
      ]
     },
     "execution_count": 16,
     "metadata": {},
     "output_type": "execute_result"
    }
   ],
   "source": [
    "data_text.isalpha()"
   ]
  },
  {
   "cell_type": "markdown",
   "id": "f09bbcd2",
   "metadata": {},
   "source": [
    "Metnin sadece sayısal karakterler içerip içermediğini kontrol edin."
   ]
  },
  {
   "cell_type": "code",
   "execution_count": 17,
   "id": "746be71c",
   "metadata": {},
   "outputs": [
    {
     "data": {
      "text/plain": [
       "False"
      ]
     },
     "execution_count": 17,
     "metadata": {},
     "output_type": "execute_result"
    }
   ],
   "source": [
    "data_text.isdigit()"
   ]
  },
  {
   "cell_type": "code",
   "execution_count": 18,
   "id": "3ef8a24a",
   "metadata": {},
   "outputs": [
    {
     "data": {
      "text/plain": [
       "False"
      ]
     },
     "execution_count": 18,
     "metadata": {},
     "output_type": "execute_result"
    }
   ],
   "source": [
    "data_text.isnumeric()"
   ]
  }
 ],
 "metadata": {
  "kernelspec": {
   "display_name": "base",
   "language": "python",
   "name": "python3"
  },
  "language_info": {
   "codemirror_mode": {
    "name": "ipython",
    "version": 3
   },
   "file_extension": ".py",
   "mimetype": "text/x-python",
   "name": "python",
   "nbconvert_exporter": "python",
   "pygments_lexer": "ipython3",
   "version": "3.11.7"
  }
 },
 "nbformat": 4,
 "nbformat_minor": 5
}
