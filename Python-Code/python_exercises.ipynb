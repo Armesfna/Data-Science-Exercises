{
 "cells": [
  {
   "cell_type": "markdown",
   "metadata": {},
   "source": [
    "a         yukarı cell ekler. \n",
    "dd        cell siler.\n",
    "ctrl + enter bulunduğu cell i çalıştırır.\n",
    "shit + enter bulunduğu cell çalıştırırp alt cell e geçer."
   ]
  },
  {
   "cell_type": "code",
   "execution_count": 2,
   "metadata": {},
   "outputs": [
    {
     "name": "stdout",
     "output_type": "stream",
     "text": [
      "[7, 10, 14]\n"
     ]
    }
   ],
   "source": [
    "# Dilim objesi oluşturma    \n",
    "# slice() fonksiyonu, bir dilim (slice) objesi oluşturmak için kullanılır. \n",
    "# Dilim objeleri, bir dizinin belirli bir aralığını veya bir alt dizisini seçmek için kullanılır. \n",
    "# slice(start, stop, step) \n",
    "\n",
    "s = slice(2, 7, 2)\n",
    "\n",
    "# Bir dizi üzerinde dilimleme işlemi yapma\n",
    "arr = [2, 4, 7, 8, 10, 11, 14, 16, 18, 19]\n",
    "result = arr[s]\n",
    "\n",
    "print(result)  # [2, 4, 6]\n"
   ]
  },
  {
   "cell_type": "code",
   "execution_count": 3,
   "metadata": {},
   "outputs": [
    {
     "name": "stdout",
     "output_type": "stream",
     "text": [
      "['b', 'd', 'f', 'h']\n"
     ]
    }
   ],
   "source": [
    "# Dilim objesi oluşturma\n",
    "#Bu kodda, slice() fonksiyonu ile bir dilim objesi oluşturulur. \n",
    "# Bu dilim objesi, başlangıç indeksi 1, bitiş indeksi 9 ve adım 2 olan bir dilimi temsil eder. \n",
    "#Daha sonra, bu dilim objesi my_list adlı liste üzerinde kullanılarak dilimleme işlemi yapılır.\n",
    "\n",
    "s = slice(1, 9, 2)\n",
    "\n",
    "# Bir liste üzerinde dilimleme işlemi yapma\n",
    "my_list = ['a', 'b', 'c', 'd', 'e', 'f', 'g', 'h', 'i', 'j']\n",
    "sliced_list = my_list[s]\n",
    "\n",
    "print(sliced_list)  # ['b', 'd', 'f', 'h']\n",
    "\n",
    "#Sonuç olarak, [1, 3, 5, 7] dilimi elde edilir."
   ]
  },
  {
   "cell_type": "code",
   "execution_count": 4,
   "metadata": {},
   "outputs": [],
   "source": [
    " Age = [25, 30, 22, 35, 28,28]\n",
    "import numpy as np"
   ]
  },
  {
   "cell_type": "code",
   "execution_count": 5,
   "metadata": {},
   "outputs": [
    {
     "data": {
      "text/plain": [
       "28.0"
      ]
     },
     "execution_count": 5,
     "metadata": {},
     "output_type": "execute_result"
    }
   ],
   "source": [
    "np.mean(Age)"
   ]
  },
  {
   "cell_type": "code",
   "execution_count": 6,
   "metadata": {},
   "outputs": [
    {
     "data": {
      "text/plain": [
       "28.0"
      ]
     },
     "execution_count": 6,
     "metadata": {},
     "output_type": "execute_result"
    }
   ],
   "source": [
    "np.median(Age)"
   ]
  },
  {
   "cell_type": "code",
   "execution_count": 7,
   "metadata": {},
   "outputs": [
    {
     "data": {
      "text/plain": [
       "16.333333333333332"
      ]
     },
     "execution_count": 7,
     "metadata": {},
     "output_type": "execute_result"
    }
   ],
   "source": [
    "np.var(Age)"
   ]
  },
  {
   "cell_type": "code",
   "execution_count": 8,
   "metadata": {},
   "outputs": [
    {
     "data": {
      "text/plain": [
       "4.041451884327381"
      ]
     },
     "execution_count": 8,
     "metadata": {},
     "output_type": "execute_result"
    }
   ],
   "source": [
    "np.std(Age)"
   ]
  },
  {
   "cell_type": "code",
   "execution_count": 9,
   "metadata": {},
   "outputs": [],
   "source": [
    "age_2= np.array(Age)"
   ]
  },
  {
   "cell_type": "code",
   "execution_count": 10,
   "metadata": {},
   "outputs": [
    {
     "data": {
      "text/plain": [
       "array([30, 35, 27, 40, 33, 33])"
      ]
     },
     "execution_count": 10,
     "metadata": {},
     "output_type": "execute_result"
    }
   ],
   "source": [
    "age_2 +5"
   ]
  },
  {
   "cell_type": "markdown",
   "metadata": {},
   "source": [
    "Python'da veri işleme ve analiz için güçlü bir kütüphane olan Pandas, veri analizi becerilerinizi önemli ölçüde geliştirebilecek çok sayıda işlevsellik sunar. "
   ]
  },
  {
   "cell_type": "code",
   "execution_count": 11,
   "metadata": {},
   "outputs": [
    {
     "name": "stdout",
     "output_type": "stream",
     "text": [
      "      Name  Age  Salary Department\n",
      "0    Alice   25   50000         HR\n",
      "1      Bob   30   60000    Finance\n",
      "2  Charlie   22   45000         IT\n",
      "3    David   35   70000  Marketing\n",
      "4    Emily   28   55000         HR\n",
      "5    Emily   28   55000         HR\n"
     ]
    }
   ],
   "source": [
    "import pandas as pd\n",
    "\n",
    "# Creating a basic example dataset\n",
    "data = {\n",
    "    'Name': ['Alice', 'Bob', 'Charlie', 'David', 'Emily','Emily'],\n",
    "    'Age': [25, 30, 22, 35, 28,28],\n",
    "    'Salary': [50000, 60000, 45000, 70000, 55000,55000],\n",
    "    'Department': ['HR', 'Finance', 'IT', 'Marketing', 'HR','HR']\n",
    "}\n",
    "\n",
    "df = pd.DataFrame(data)\n",
    "print(df)"
   ]
  },
  {
   "cell_type": "code",
   "execution_count": 12,
   "metadata": {},
   "outputs": [],
   "source": [
    "df = df.drop_duplicates() # 2 veya daha fazla aynı satır varsa bir tane bırakır kalanını siler."
   ]
  },
  {
   "cell_type": "code",
   "execution_count": 13,
   "metadata": {},
   "outputs": [
    {
     "data": {
      "text/html": [
       "<div>\n",
       "<style scoped>\n",
       "    .dataframe tbody tr th:only-of-type {\n",
       "        vertical-align: middle;\n",
       "    }\n",
       "\n",
       "    .dataframe tbody tr th {\n",
       "        vertical-align: top;\n",
       "    }\n",
       "\n",
       "    .dataframe thead th {\n",
       "        text-align: right;\n",
       "    }\n",
       "</style>\n",
       "<table border=\"1\" class=\"dataframe\">\n",
       "  <thead>\n",
       "    <tr style=\"text-align: right;\">\n",
       "      <th></th>\n",
       "      <th>Name</th>\n",
       "      <th>Age</th>\n",
       "      <th>Salary</th>\n",
       "      <th>Department</th>\n",
       "    </tr>\n",
       "  </thead>\n",
       "  <tbody>\n",
       "    <tr>\n",
       "      <th>0</th>\n",
       "      <td>Alice</td>\n",
       "      <td>25</td>\n",
       "      <td>50000</td>\n",
       "      <td>HR</td>\n",
       "    </tr>\n",
       "    <tr>\n",
       "      <th>1</th>\n",
       "      <td>Bob</td>\n",
       "      <td>30</td>\n",
       "      <td>60000</td>\n",
       "      <td>Finance</td>\n",
       "    </tr>\n",
       "    <tr>\n",
       "      <th>2</th>\n",
       "      <td>Charlie</td>\n",
       "      <td>22</td>\n",
       "      <td>45000</td>\n",
       "      <td>IT</td>\n",
       "    </tr>\n",
       "    <tr>\n",
       "      <th>3</th>\n",
       "      <td>David</td>\n",
       "      <td>35</td>\n",
       "      <td>70000</td>\n",
       "      <td>Marketing</td>\n",
       "    </tr>\n",
       "    <tr>\n",
       "      <th>4</th>\n",
       "      <td>Emily</td>\n",
       "      <td>28</td>\n",
       "      <td>55000</td>\n",
       "      <td>HR</td>\n",
       "    </tr>\n",
       "  </tbody>\n",
       "</table>\n",
       "</div>"
      ],
      "text/plain": [
       "      Name  Age  Salary Department\n",
       "0    Alice   25   50000         HR\n",
       "1      Bob   30   60000    Finance\n",
       "2  Charlie   22   45000         IT\n",
       "3    David   35   70000  Marketing\n",
       "4    Emily   28   55000         HR"
      ]
     },
     "execution_count": 13,
     "metadata": {},
     "output_type": "execute_result"
    }
   ],
   "source": [
    "df"
   ]
  },
  {
   "cell_type": "code",
   "execution_count": 14,
   "metadata": {},
   "outputs": [
    {
     "data": {
      "text/html": [
       "<div>\n",
       "<style scoped>\n",
       "    .dataframe tbody tr th:only-of-type {\n",
       "        vertical-align: middle;\n",
       "    }\n",
       "\n",
       "    .dataframe tbody tr th {\n",
       "        vertical-align: top;\n",
       "    }\n",
       "\n",
       "    .dataframe thead th {\n",
       "        text-align: right;\n",
       "    }\n",
       "</style>\n",
       "<table border=\"1\" class=\"dataframe\">\n",
       "  <thead>\n",
       "    <tr style=\"text-align: right;\">\n",
       "      <th></th>\n",
       "      <th>Name</th>\n",
       "      <th>Age</th>\n",
       "      <th>Salary</th>\n",
       "      <th>Department</th>\n",
       "    </tr>\n",
       "  </thead>\n",
       "  <tbody>\n",
       "    <tr>\n",
       "      <th>0</th>\n",
       "      <td>Alice</td>\n",
       "      <td>25</td>\n",
       "      <td>50000</td>\n",
       "      <td>HR</td>\n",
       "    </tr>\n",
       "    <tr>\n",
       "      <th>1</th>\n",
       "      <td>Bob</td>\n",
       "      <td>30</td>\n",
       "      <td>60000</td>\n",
       "      <td>Finance</td>\n",
       "    </tr>\n",
       "    <tr>\n",
       "      <th>2</th>\n",
       "      <td>Charlie</td>\n",
       "      <td>22</td>\n",
       "      <td>45000</td>\n",
       "      <td>IT</td>\n",
       "    </tr>\n",
       "    <tr>\n",
       "      <th>3</th>\n",
       "      <td>David</td>\n",
       "      <td>35</td>\n",
       "      <td>70000</td>\n",
       "      <td>Marketing</td>\n",
       "    </tr>\n",
       "    <tr>\n",
       "      <th>4</th>\n",
       "      <td>Emily</td>\n",
       "      <td>28</td>\n",
       "      <td>55000</td>\n",
       "      <td>HR</td>\n",
       "    </tr>\n",
       "  </tbody>\n",
       "</table>\n",
       "</div>"
      ],
      "text/plain": [
       "      Name  Age  Salary Department\n",
       "0    Alice   25   50000         HR\n",
       "1      Bob   30   60000    Finance\n",
       "2  Charlie   22   45000         IT\n",
       "3    David   35   70000  Marketing\n",
       "4    Emily   28   55000         HR"
      ]
     },
     "execution_count": 14,
     "metadata": {},
     "output_type": "execute_result"
    }
   ],
   "source": [
    "df.head()"
   ]
  },
  {
   "cell_type": "code",
   "execution_count": 15,
   "metadata": {},
   "outputs": [
    {
     "data": {
      "text/html": [
       "<div>\n",
       "<style scoped>\n",
       "    .dataframe tbody tr th:only-of-type {\n",
       "        vertical-align: middle;\n",
       "    }\n",
       "\n",
       "    .dataframe tbody tr th {\n",
       "        vertical-align: top;\n",
       "    }\n",
       "\n",
       "    .dataframe thead th {\n",
       "        text-align: right;\n",
       "    }\n",
       "</style>\n",
       "<table border=\"1\" class=\"dataframe\">\n",
       "  <thead>\n",
       "    <tr style=\"text-align: right;\">\n",
       "      <th></th>\n",
       "      <th>Name</th>\n",
       "      <th>Age</th>\n",
       "      <th>Salary</th>\n",
       "      <th>Department</th>\n",
       "    </tr>\n",
       "  </thead>\n",
       "  <tbody>\n",
       "    <tr>\n",
       "      <th>0</th>\n",
       "      <td>Alice</td>\n",
       "      <td>25</td>\n",
       "      <td>50000</td>\n",
       "      <td>HR</td>\n",
       "    </tr>\n",
       "    <tr>\n",
       "      <th>1</th>\n",
       "      <td>Bob</td>\n",
       "      <td>30</td>\n",
       "      <td>60000</td>\n",
       "      <td>Finance</td>\n",
       "    </tr>\n",
       "    <tr>\n",
       "      <th>2</th>\n",
       "      <td>Charlie</td>\n",
       "      <td>22</td>\n",
       "      <td>45000</td>\n",
       "      <td>IT</td>\n",
       "    </tr>\n",
       "    <tr>\n",
       "      <th>3</th>\n",
       "      <td>David</td>\n",
       "      <td>35</td>\n",
       "      <td>70000</td>\n",
       "      <td>Marketing</td>\n",
       "    </tr>\n",
       "    <tr>\n",
       "      <th>4</th>\n",
       "      <td>Emily</td>\n",
       "      <td>28</td>\n",
       "      <td>55000</td>\n",
       "      <td>HR</td>\n",
       "    </tr>\n",
       "  </tbody>\n",
       "</table>\n",
       "</div>"
      ],
      "text/plain": [
       "      Name  Age  Salary Department\n",
       "0    Alice   25   50000         HR\n",
       "1      Bob   30   60000    Finance\n",
       "2  Charlie   22   45000         IT\n",
       "3    David   35   70000  Marketing\n",
       "4    Emily   28   55000         HR"
      ]
     },
     "execution_count": 15,
     "metadata": {},
     "output_type": "execute_result"
    }
   ],
   "source": [
    "df.tail()"
   ]
  },
  {
   "cell_type": "code",
   "execution_count": 16,
   "metadata": {},
   "outputs": [
    {
     "name": "stdout",
     "output_type": "stream",
     "text": [
      "<class 'pandas.core.frame.DataFrame'>\n",
      "Int64Index: 5 entries, 0 to 4\n",
      "Data columns (total 4 columns):\n",
      " #   Column      Non-Null Count  Dtype \n",
      "---  ------      --------------  ----- \n",
      " 0   Name        5 non-null      object\n",
      " 1   Age         5 non-null      int64 \n",
      " 2   Salary      5 non-null      int64 \n",
      " 3   Department  5 non-null      object\n",
      "dtypes: int64(2), object(2)\n",
      "memory usage: 200.0+ bytes\n"
     ]
    }
   ],
   "source": [
    "df.info()"
   ]
  },
  {
   "cell_type": "code",
   "execution_count": 17,
   "metadata": {},
   "outputs": [
    {
     "data": {
      "text/html": [
       "<div>\n",
       "<style scoped>\n",
       "    .dataframe tbody tr th:only-of-type {\n",
       "        vertical-align: middle;\n",
       "    }\n",
       "\n",
       "    .dataframe tbody tr th {\n",
       "        vertical-align: top;\n",
       "    }\n",
       "\n",
       "    .dataframe thead th {\n",
       "        text-align: right;\n",
       "    }\n",
       "</style>\n",
       "<table border=\"1\" class=\"dataframe\">\n",
       "  <thead>\n",
       "    <tr style=\"text-align: right;\">\n",
       "      <th></th>\n",
       "      <th>Age</th>\n",
       "      <th>Salary</th>\n",
       "    </tr>\n",
       "  </thead>\n",
       "  <tbody>\n",
       "    <tr>\n",
       "      <th>count</th>\n",
       "      <td>5.000000</td>\n",
       "      <td>5.000000</td>\n",
       "    </tr>\n",
       "    <tr>\n",
       "      <th>mean</th>\n",
       "      <td>28.000000</td>\n",
       "      <td>56000.000000</td>\n",
       "    </tr>\n",
       "    <tr>\n",
       "      <th>std</th>\n",
       "      <td>4.949747</td>\n",
       "      <td>9617.692031</td>\n",
       "    </tr>\n",
       "    <tr>\n",
       "      <th>min</th>\n",
       "      <td>22.000000</td>\n",
       "      <td>45000.000000</td>\n",
       "    </tr>\n",
       "    <tr>\n",
       "      <th>25%</th>\n",
       "      <td>25.000000</td>\n",
       "      <td>50000.000000</td>\n",
       "    </tr>\n",
       "    <tr>\n",
       "      <th>50%</th>\n",
       "      <td>28.000000</td>\n",
       "      <td>55000.000000</td>\n",
       "    </tr>\n",
       "    <tr>\n",
       "      <th>75%</th>\n",
       "      <td>30.000000</td>\n",
       "      <td>60000.000000</td>\n",
       "    </tr>\n",
       "    <tr>\n",
       "      <th>max</th>\n",
       "      <td>35.000000</td>\n",
       "      <td>70000.000000</td>\n",
       "    </tr>\n",
       "  </tbody>\n",
       "</table>\n",
       "</div>"
      ],
      "text/plain": [
       "             Age        Salary\n",
       "count   5.000000      5.000000\n",
       "mean   28.000000  56000.000000\n",
       "std     4.949747   9617.692031\n",
       "min    22.000000  45000.000000\n",
       "25%    25.000000  50000.000000\n",
       "50%    28.000000  55000.000000\n",
       "75%    30.000000  60000.000000\n",
       "max    35.000000  70000.000000"
      ]
     },
     "execution_count": 17,
     "metadata": {},
     "output_type": "execute_result"
    }
   ],
   "source": [
    "df.describe()"
   ]
  },
  {
   "cell_type": "code",
   "execution_count": 18,
   "metadata": {},
   "outputs": [
    {
     "name": "stdout",
     "output_type": "stream",
     "text": [
      "             Salary  Age\n",
      "Department              \n",
      "Finance     60000.0   30\n",
      "HR          52500.0   28\n",
      "IT          45000.0   22\n",
      "Marketing   70000.0   35\n"
     ]
    }
   ],
   "source": [
    "# Grouping and aggregating data\n",
    "grouped_df = df.groupby('Department').agg({'Salary': 'mean', 'Age': 'max'})\n",
    "print(grouped_df)"
   ]
  },
  {
   "cell_type": "code",
   "execution_count": 19,
   "metadata": {},
   "outputs": [
    {
     "name": "stdout",
     "output_type": "stream",
     "text": [
      "    Name  Age  Salary Department\n",
      "1    Bob   30   60000    Finance\n",
      "3  David   35   70000  Marketing\n",
      "4  Emily   28   55000         HR\n"
     ]
    }
   ],
   "source": [
    "# Filtering data based on conditions\n",
    "filtered_df = df[df['Age'] > 25]\n",
    "print(filtered_df)"
   ]
  },
  {
   "cell_type": "code",
   "execution_count": 20,
   "metadata": {},
   "outputs": [
    {
     "name": "stdout",
     "output_type": "stream",
     "text": [
      "      Name  Age  Salary Department\n",
      "3    David   35   70000  Marketing\n",
      "1      Bob   30   60000    Finance\n",
      "4    Emily   28   55000         HR\n",
      "0    Alice   25   50000         HR\n",
      "2  Charlie   22   45000         IT\n"
     ]
    }
   ],
   "source": [
    "# Sorting data\n",
    "sorted_df = df.sort_values(by='Salary', ascending=False)\n",
    "print(sorted_df)"
   ]
  },
  {
   "cell_type": "code",
   "execution_count": 21,
   "metadata": {},
   "outputs": [
    {
     "data": {
      "text/html": [
       "<div>\n",
       "<style scoped>\n",
       "    .dataframe tbody tr th:only-of-type {\n",
       "        vertical-align: middle;\n",
       "    }\n",
       "\n",
       "    .dataframe tbody tr th {\n",
       "        vertical-align: top;\n",
       "    }\n",
       "\n",
       "    .dataframe thead th {\n",
       "        text-align: right;\n",
       "    }\n",
       "</style>\n",
       "<table border=\"1\" class=\"dataframe\">\n",
       "  <thead>\n",
       "    <tr style=\"text-align: right;\">\n",
       "      <th></th>\n",
       "      <th>Name</th>\n",
       "      <th>Age</th>\n",
       "      <th>Salary</th>\n",
       "      <th>Department</th>\n",
       "    </tr>\n",
       "  </thead>\n",
       "  <tbody>\n",
       "    <tr>\n",
       "      <th>0</th>\n",
       "      <td>Alice</td>\n",
       "      <td>25</td>\n",
       "      <td>50000</td>\n",
       "      <td>HR</td>\n",
       "    </tr>\n",
       "    <tr>\n",
       "      <th>1</th>\n",
       "      <td>Bob</td>\n",
       "      <td>30</td>\n",
       "      <td>60000</td>\n",
       "      <td>Finance</td>\n",
       "    </tr>\n",
       "    <tr>\n",
       "      <th>2</th>\n",
       "      <td>Charlie</td>\n",
       "      <td>22</td>\n",
       "      <td>45000</td>\n",
       "      <td>IT</td>\n",
       "    </tr>\n",
       "    <tr>\n",
       "      <th>3</th>\n",
       "      <td>David</td>\n",
       "      <td>35</td>\n",
       "      <td>70000</td>\n",
       "      <td>Marketing</td>\n",
       "    </tr>\n",
       "    <tr>\n",
       "      <th>4</th>\n",
       "      <td>Emily</td>\n",
       "      <td>28</td>\n",
       "      <td>55000</td>\n",
       "      <td>HR</td>\n",
       "    </tr>\n",
       "  </tbody>\n",
       "</table>\n",
       "</div>"
      ],
      "text/plain": [
       "      Name  Age  Salary Department\n",
       "0    Alice   25   50000         HR\n",
       "1      Bob   30   60000    Finance\n",
       "2  Charlie   22   45000         IT\n",
       "3    David   35   70000  Marketing\n",
       "4    Emily   28   55000         HR"
      ]
     },
     "execution_count": 21,
     "metadata": {},
     "output_type": "execute_result"
    }
   ],
   "source": [
    "df"
   ]
  },
  {
   "cell_type": "code",
   "execution_count": 45,
   "metadata": {},
   "outputs": [],
   "source": [
    "# yapma df = df.drop(columns= \"Age\" ) # görmek istemediğin kolonu tablodan kaldırma. riskli bunu yapmadan önce baştan veriyi kopya yapman gerekir. "
   ]
  },
  {
   "cell_type": "code",
   "execution_count": 22,
   "metadata": {},
   "outputs": [],
   "source": [
    "# Orijinal veri setinin yedeği\n",
    "original_df = df.copy()\n",
    "\n",
    "# Kolonu kaldırma işlemi\n",
    "df = df.drop(columns=\"Age\")\n",
    "\n",
    "# Orijinal veri setinin bir kopyasını kullanarak kolonu geri getirme\n",
    "df[\"Age\"] = original_df[\"Age\"] # bu sefer sonradan eklediğin için sona atar."
   ]
  },
  {
   "cell_type": "code",
   "execution_count": 27,
   "metadata": {},
   "outputs": [],
   "source": [
    "# Eksik veya NULL değerler analizinizi etkileyebilir. Veri bütünlüğünü korumak için bu değerleri boş dizelerle değiştireceğiz.\n",
    "df = df.fillna('')"
   ]
  },
  {
   "cell_type": "code",
   "execution_count": 1,
   "metadata": {},
   "outputs": [],
   "source": [
    "# NESNE YÖNELİMLİ PROGRAMLAMA \n",
    "# bir sınıf belirlersin ortak özellikleri olan objeleri aynı sınıfa alırsın. \n",
    "# class = amaç gerçek hayattaki bir nesneyi modellemek ve yeni oluşturulan veri tipi üzerinde çalışmak.  pc, insan, hayvan\n",
    "#İçinde belli bir veriyi barındırır. ve manipülasyon yapılabilir. Değerler değiştirilebilir. \n",
    "# class örnekleri ; str, insan, araba,\n",
    "# bir mağazayı ele alalım. class = müşteri (adı,soyadı,yaş,email,id), ürün(adı,stok kodu, stok adedi, fiyat) personel(adı,soyadı,maaş,departman) "
   ]
  },
  {
   "cell_type": "code",
   "execution_count": 28,
   "metadata": {},
   "outputs": [],
   "source": [
    "class Person: # özellik ve methodlar(işlevler ) barındırır. \n",
    "    def speak(self): #method\n",
    "        print(f\"{self.name} konuştu.\")\n",
    "    def eat(self):   #method\n",
    "        print(f\"{self.name} yemek yedi.\")\n",
    "\n",
    "\n",
    "insan1 = Person() # bir class dan üretilmiş bir nesne yarattık instance yaptık.\n",
    "insan2 = Person()\n",
    "insan3 = Person() #  bir class dan üretilmiş bir nesne yarattık instance yaptık.\n"
   ]
  },
  {
   "cell_type": "code",
   "execution_count": 29,
   "metadata": {},
   "outputs": [
    {
     "name": "stdout",
     "output_type": "stream",
     "text": [
      "Elif konuştu.\n"
     ]
    }
   ],
   "source": [
    "insan1.name = \"Elif\"\n",
    "insan1.speak()"
   ]
  },
  {
   "cell_type": "code",
   "execution_count": 30,
   "metadata": {},
   "outputs": [
    {
     "name": "stdout",
     "output_type": "stream",
     "text": [
      "Selim yemek yedi.\n"
     ]
    }
   ],
   "source": [
    "insan4 = Person()\n",
    "insan4.name = \"Selim\"\n",
    "insan4.eat()"
   ]
  },
  {
   "cell_type": "code",
   "execution_count": 31,
   "metadata": {},
   "outputs": [],
   "source": [
    "class Person: # özellik ve methodlar(işlevler ) barındırır. \n",
    "    def __init__(self,name): # bpş nesne yarattık.\n",
    "        self.name = name\n",
    "\n",
    "    def speak(self): #method\n",
    "        print(f\"{self.name} konuştu.\")\n",
    "        \n",
    "    def eat(self):   #method\n",
    "        print(f\"{self.name} yemek yedi.\")"
   ]
  },
  {
   "cell_type": "code",
   "execution_count": 32,
   "metadata": {},
   "outputs": [
    {
     "name": "stdout",
     "output_type": "stream",
     "text": [
      "selim konuştu.\n",
      "selim yemek yedi.\n"
     ]
    }
   ],
   "source": [
    "insan1 = Person(name=\"selim\")\n",
    "insan1.speak()\n",
    "insan1.eat()"
   ]
  },
  {
   "cell_type": "code",
   "execution_count": 34,
   "metadata": {},
   "outputs": [],
   "source": [
    "class Person: # özellik ve methodlar(işlevler ) barındırır. \n",
    "    def __init__(self,name, surname, yaş): # boş nesne yarattık. başlangıçnoktası\n",
    "        self.name = name        # boş nesne üzerinde manipülasyon yapılır.\n",
    "        self.surname = surname\n",
    "        self.yaş = yaş\n",
    "\n",
    "    def speak(self): #bu methodlar sınıfın davranışlarını ,işlevlerini tanımlar. # bu methodların tamamı da üstte boş yarattığımız nesnenin methodlarını işlevlerini ifade eder.\n",
    "        print(f\"{self.name} {self.surname}  konuştu.\")\n",
    "        \n",
    "    def eat(self):   #method\n",
    "        print(f\"{self.name} yemek yedi.\")"
   ]
  },
  {
   "cell_type": "code",
   "execution_count": 36,
   "metadata": {},
   "outputs": [
    {
     "name": "stdout",
     "output_type": "stream",
     "text": [
      "selim asa  konuştu.\n"
     ]
    }
   ],
   "source": [
    "insan2 = Person(name=\"selim\",surname=\"asa\",yaş=20)\n",
    "insan2.speak()"
   ]
  },
  {
   "cell_type": "code",
   "execution_count": 37,
   "metadata": {},
   "outputs": [],
   "source": [
    "class Araba():\n",
    "    def __init__(self,marka,model,fiyat,renk):\n",
    "        self.gelenmarka = marka\n",
    "        self.gelenmodel = model\n",
    "        self.gelenfiyat = fiyat\n",
    "        self.gelenrenk = renk\n",
    "    \n",
    "    def bilgileriyazdır(self):\n",
    "        print(self.gelenmarka, self.gelenmodel, self.gelenfiyat, self.gelenrenk)\n",
    "    "
   ]
  },
  {
   "cell_type": "code",
   "execution_count": 38,
   "metadata": {},
   "outputs": [],
   "source": [
    "araba1 = Araba(\"Renault\", \"Clio\", 40_000, \"Mavi\")  # bir class dan üretilmiş bir nesne yarattık instance yaptık.\n",
    "araba2 = Araba(\"Ford\", \"Mustang\", 120_000, \"Kırmızı\")"
   ]
  },
  {
   "cell_type": "code",
   "execution_count": 40,
   "metadata": {},
   "outputs": [
    {
     "data": {
      "text/plain": [
       "<__main__.Araba at 0x1fb86122790>"
      ]
     },
     "execution_count": 40,
     "metadata": {},
     "output_type": "execute_result"
    }
   ],
   "source": [
    "araba1"
   ]
  },
  {
   "cell_type": "code",
   "execution_count": 41,
   "metadata": {},
   "outputs": [
    {
     "name": "stdout",
     "output_type": "stream",
     "text": [
      "Renault Clio 40000 Mavi\n"
     ]
    }
   ],
   "source": [
    "araba1.bilgileriyazdır()"
   ]
  },
  {
   "cell_type": "code",
   "execution_count": 42,
   "metadata": {},
   "outputs": [],
   "source": [
    "class Araba():\n",
    "    def __init__(self,marka,model,fiyat,renk):\n",
    "        self.gelenmarka = marka\n",
    "        self.gelenmodel = model\n",
    "        self.gelenfiyat = fiyat\n",
    "        self.gelenrenk = renk\n",
    "    \n",
    "    def bilgileriyazdır(self):\n",
    "        print(self.gelenmarka, self.gelenmodel, self.gelenfiyat, self.gelenrenk)\n",
    "\n",
    "    def renkdegistir(self,renk):\n",
    "        self.gelenrenk = renk"
   ]
  },
  {
   "cell_type": "code",
   "execution_count": 43,
   "metadata": {},
   "outputs": [
    {
     "name": "stdout",
     "output_type": "stream",
     "text": [
      "Renault Clio 40000 Yeşil\n"
     ]
    }
   ],
   "source": [
    "araba1 = Araba(\"Renault\", \"Clio\", 40_000, \"Mavi\")\n",
    "araba1.renkdegistir(\"Yeşil\")\n",
    "araba1.bilgileriyazdır()"
   ]
  }
 ],
 "metadata": {
  "kernelspec": {
   "display_name": "base",
   "language": "python",
   "name": "python3"
  },
  "language_info": {
   "codemirror_mode": {
    "name": "ipython",
    "version": 3
   },
   "file_extension": ".py",
   "mimetype": "text/x-python",
   "name": "python",
   "nbconvert_exporter": "python",
   "pygments_lexer": "ipython3",
   "version": "3.11.7"
  }
 },
 "nbformat": 4,
 "nbformat_minor": 2
}
