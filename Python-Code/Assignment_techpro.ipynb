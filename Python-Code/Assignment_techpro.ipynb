{
 "cells": [
  {
   "cell_type": "markdown",
   "metadata": {},
   "source": [
    "1 - Kullanıcıdan input ile iki veri alın. Bu veriler tamsayı ise çarpımını yazdırın. "
   ]
  },
  {
   "cell_type": "code",
   "execution_count": 1,
   "metadata": {},
   "outputs": [
    {
     "name": "stdout",
     "output_type": "stream",
     "text": [
      "Girilen 1. değer : 3 Girilen 2. değer: 5 Girdiğiniz değerlerin çarpımı: 15\n"
     ]
    }
   ],
   "source": [
    "sayi_1 = input(\"Lütfen ilk veriyi girin\")\n",
    "sayi_2 = input(\"Lütfen ikinci veriyi girin\")\n",
    "if sayi_1.isdigit() and sayi_2.isdigit:\n",
    "    # Sayılar numeric ise işlem devam eder.\n",
    "    x = int(sayi_1) * int(sayi_2) \n",
    "    print(\"Girilen 1. değer :\" , sayi_1 , \"Girilen 2. değer:\", sayi_2 , \"Girdiğiniz değerlerin çarpımı:\", x)\n",
    "    # Sayılar numeric değil ise işlem yapılmaz.\n",
    "else:  \n",
    "    print(\"Girdiğiniz değerler tamsayı değildir.\")"
   ]
  },
  {
   "cell_type": "markdown",
   "metadata": {},
   "source": [
    "2 - Kullanıcıdan bir sayı isteyin. Sayı tek ise 2 katını çift ise karesini yazdırın. "
   ]
  },
  {
   "cell_type": "code",
   "execution_count": 4,
   "metadata": {},
   "outputs": [
    {
     "name": "stdout",
     "output_type": "stream",
     "text": [
      "Girilen sayı tek sayıdır ve sayı: 3 Bu sayının iki katı ise: 6\n"
     ]
    }
   ],
   "source": [
    "sayi_3 = int(input(\"Lütfen bir sayı girin\"))\n",
    "if sayi_3 % 2 == 1 :\n",
    "    print(\"Girilen sayı tek sayıdır ve sayı:\", sayi_3, \"Bu sayının iki katı ise:\", sayi_3 * 2)\n",
    "else:\n",
    "    print(\"Girilen sayı çift sayıdır ve sayı:\", sayi_3, \"Bu sayının karesi ise:\", sayi_3 ** 2)\n"
   ]
  },
  {
   "cell_type": "markdown",
   "metadata": {},
   "source": [
    "3 - Kullanıcıdan iki tam sayı isteyin. Sayılar eşitse veya sayıların farkı 5 in katı ise True döndüren algoritmayı yazın. Aksi taktirde False çıktısı almalısınız"
   ]
  },
  {
   "cell_type": "code",
   "execution_count": 32,
   "metadata": {},
   "outputs": [
    {
     "name": "stdout",
     "output_type": "stream",
     "text": [
      "Tam sayıların farkı 5 in katıdır. Sayıların değeri: 45 ve 15 Sonuç çıktısı: True\n"
     ]
    }
   ],
   "source": [
    "# 1. yol\n",
    "tamsayi_1 = int(input(\"Lütfen 1. tam sayıyı girin\"))\n",
    "tamsayi_2 = int(input(\"Lütfen 2. tam sayıyı girin\"))\n",
    "if tamsayi_1 == tamsayi_2:\n",
    "    print(\"Tam sayılar birbirine eşittir. Sayıların değeri:\",tamsayi_1, \"Sonuç çıktısı:\", True)\n",
    "elif (tamsayi_1 - tamsayi_2 ) % 5 == 0:\n",
    "    # Girilen sayılar eşit veya 5'in katıdır.\n",
    "    print(\"Tam sayıların farkı 5 in katıdır. Sayıların değeri:\",tamsayi_1, \"ve\", tamsayi_2, \"Sonuç çıktısı:\", True)\n",
    "    # # Girilen sayılar eşit veya 5'in katı değildir.\n",
    "else:\n",
    "    print(\"Sonuç çıktısı:\", False)"
   ]
  },
  {
   "cell_type": "code",
   "execution_count": 31,
   "metadata": {},
   "outputs": [
    {
     "name": "stdout",
     "output_type": "stream",
     "text": [
      "True\n"
     ]
    }
   ],
   "source": [
    "# 2. yol\n",
    "tam_sayi1 = int(input(\"Lütfen 1. tam sayıyı girin\"))\n",
    "tam_sayi2 = int(input(\"Lütfen 2. tam sayıyı girin\"))\n",
    "if tam_sayi1 == tam_sayi2 or (tam_sayi1 - tam_sayi2 ) % 5 == 0:\n",
    "    # Girilen sayılar eşit veya 5'in katıdır.\n",
    "    print(True)\n",
    "    # # Girilen sayılar eşit veya 5'in katı değildir.\n",
    "else:\n",
    "    print(False)"
   ]
  },
  {
   "cell_type": "markdown",
   "metadata": {},
   "source": [
    "4 - Kullanıcıya sınavdan aldığı notu sorunuz. Denk gelen Harf notunu yazdırın. 0-100 aralığı        dışında girilen notların geçersiz olduğuu belirtmeyi unutmayın. \n",
    "    80 - 100 aralığı \"A\",\n",
    "    65 - 79 aralığı \"B\",\n",
    "    55 - 64 aralığı \"C\",\n",
    "    35 - 54 aralığı \"D\",\n",
    "    0 - 34 aralığı \"F\""
   ]
  },
  {
   "cell_type": "code",
   "execution_count": 3,
   "metadata": {},
   "outputs": [
    {
     "name": "stdout",
     "output_type": "stream",
     "text": [
      "Girilen not 0-100 aralığında olmalıdır. Girdiğiniz not geçersizdir.\n"
     ]
    }
   ],
   "source": [
    "ders_not = int(input(\"Lütfen sınavdan aldığınız notu giriniz.\"))\n",
    "if 80 <= ders_not <= 100:\n",
    "    print(\"Ders Notu:\", ders_not, \"Denk gelen harf notu: A\")\n",
    "elif 65 <= ders_not <= 79: \n",
    "    print(\"Ders Notu:\", ders_not, \"Denk gelen harf notu: B\")\n",
    "elif 55 <= ders_not <= 64: \n",
    "    print(\"Ders Notu:\", ders_not, \"Denk gelen harf notu: C\")\n",
    "elif 35 <= ders_not <= 54: \n",
    "    print(\"Ders Notu:\", ders_not, \"Denk gelen harf notu: D\")\n",
    "elif 0 <= ders_not <= 34: \n",
    "    print(\"Ders Notu:\", ders_not, \"Denk gelen harf notu: F\")\n",
    "else:\n",
    "    print(\"Girilen not 0-100 aralığında olmalıdır. Girdiğiniz not geçersizdir.\")"
   ]
  },
  {
   "cell_type": "markdown",
   "metadata": {},
   "source": [
    "5 - Kullanıcıdan bir saniye değeri girmesini isteyin. girilen saniyeyi saat dakika ve sn cinsinden yazdırın. \n",
    "örn: 19520 sn >> 5 saat, 25 dk, 20 saniye "
   ]
  },
  {
   "cell_type": "code",
   "execution_count": 4,
   "metadata": {},
   "outputs": [
    {
     "name": "stdout",
     "output_type": "stream",
     "text": [
      "82 saniye : 0 saat 1 dakika 22 saniye\n"
     ]
    }
   ],
   "source": [
    "saniye = int (input(\"Lütfen saniye değerini girin.\"))\n",
    "saat = saniye // 3600\n",
    "dakika = int(saniye % 3600 ) // 60\n",
    "kalan_saniye = saniye % 60\n",
    "print(saniye, \"saniye :\", saat, \"saat\", dakika, \"dakika\", kalan_saniye, \"saniye\")"
   ]
  }
 ],
 "metadata": {
  "kernelspec": {
   "display_name": "base",
   "language": "python",
   "name": "python3"
  },
  "language_info": {
   "codemirror_mode": {
    "name": "ipython",
    "version": 3
   },
   "file_extension": ".py",
   "mimetype": "text/x-python",
   "name": "python",
   "nbconvert_exporter": "python",
   "pygments_lexer": "ipython3",
   "version": "0.0.0"
  },
  "orig_nbformat": 4
 },
 "nbformat": 4,
 "nbformat_minor": 2
}
