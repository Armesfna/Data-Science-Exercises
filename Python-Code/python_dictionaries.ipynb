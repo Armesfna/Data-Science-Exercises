{
 "cells": [
  {
   "cell_type": "markdown",
   "id": "b9d5b106",
   "metadata": {},
   "source": [
    "# Python Dictionaries Metodları Üzerinde Çalışma"
   ]
  },
  {
   "cell_type": "code",
   "execution_count": 7,
   "id": "795b59b0",
   "metadata": {},
   "outputs": [],
   "source": [
    "data = {'meyveler': {'elma': 10, 'muz': 5, 'portakal': 7, 'çilek': 20}, 'sebzeler': {'domates': 8, 'biber': 12, 'patlıcan': 5, 'ıspanak': 15}, 'içecekler': {'su': 30, 'meyve suyu': 15, 'çay': 20, 'kola': 10}, 'atıştırmalıklar': {'cips': 25, 'çikolata': 30, 'kek': 15, 'bisküvi': 20}}"
   ]
  },
  {
   "cell_type": "markdown",
   "id": "4eb8235a",
   "metadata": {},
   "source": [
    "## Soru 1\n",
    "Tüm datayı temizleyin."
   ]
  },
  {
   "cell_type": "code",
   "execution_count": 3,
   "id": "a54a994e",
   "metadata": {},
   "outputs": [],
   "source": [
    "# data.clear()"
   ]
  },
  {
   "cell_type": "markdown",
   "id": "892c869a",
   "metadata": {},
   "source": [
    "## Soru 2\n",
    "Data kopyasını oluşturun."
   ]
  },
  {
   "cell_type": "code",
   "execution_count": 8,
   "id": "fa2347a8",
   "metadata": {},
   "outputs": [],
   "source": [
    "data_copy = data.copy()"
   ]
  },
  {
   "cell_type": "markdown",
   "id": "30b9c507",
   "metadata": {},
   "source": [
    "## Soru 3\n",
    "Yalnızca 'meyveler' ve 'sebzeler' kategorilerini içeren yeni bir sözlük oluşturun."
   ]
  },
  {
   "cell_type": "code",
   "execution_count": 10,
   "id": "9c2cfff2",
   "metadata": {},
   "outputs": [
    {
     "data": {
      "text/plain": [
       "{'meyveler': {'elma': 10, 'muz': 5, 'portakal': 7, 'çilek': 20},\n",
       " 'sebzeler': {'domates': 8, 'biber': 12, 'patlıcan': 5, 'ıspanak': 15}}"
      ]
     },
     "execution_count": 10,
     "metadata": {},
     "output_type": "execute_result"
    }
   ],
   "source": [
    "meyve_sebze = {'meyveler': data['meyveler'], 'sebzeler': data['sebzeler']}\n",
    "meyve_sebze"
   ]
  },
  {
   "cell_type": "markdown",
   "id": "60fa88f8",
   "metadata": {},
   "source": [
    "## Soru 4\n",
    "'içecekler' kategorisindeki 'çay'ın stok sayısını getirin."
   ]
  },
  {
   "cell_type": "code",
   "execution_count": 11,
   "id": "2e5d83a1",
   "metadata": {},
   "outputs": [
    {
     "data": {
      "text/plain": [
       "20"
      ]
     },
     "execution_count": 11,
     "metadata": {},
     "output_type": "execute_result"
    }
   ],
   "source": [
    "cay_stok = data['içecekler'].get('çay', 'Çay bulunamadı')\n",
    "cay_stok"
   ]
  },
  {
   "cell_type": "markdown",
   "id": "5beb9508",
   "metadata": {},
   "source": [
    "## Soru 5\n",
    "Tüm kategorilerin anahtarlarını ve stok sayılarını listeleyin."
   ]
  },
  {
   "cell_type": "code",
   "execution_count": 12,
   "id": "dccddbb5",
   "metadata": {},
   "outputs": [
    {
     "name": "stdout",
     "output_type": "stream",
     "text": [
      "meyveler {'elma': 10, 'muz': 5, 'portakal': 7, 'çilek': 20}\n",
      "sebzeler {'domates': 8, 'biber': 12, 'patlıcan': 5, 'ıspanak': 15}\n",
      "içecekler {'su': 30, 'meyve suyu': 15, 'çay': 20, 'kola': 10}\n",
      "atıştırmalıklar {'cips': 25, 'çikolata': 30, 'kek': 15, 'bisküvi': 20}\n"
     ]
    }
   ],
   "source": [
    "for kategori, urunler in data.items():\n",
    "    print(kategori, urunler)"
   ]
  },
  {
   "cell_type": "markdown",
   "id": "92173fe6",
   "metadata": {},
   "source": [
    "## Soru 6\n",
    "'atıştırmalıklar' kategorisindeki 'kek' stok sayısını güncelleyin (10 azaltın)."
   ]
  },
  {
   "cell_type": "code",
   "execution_count": 13,
   "id": "99d83e1a",
   "metadata": {},
   "outputs": [],
   "source": [
    "data['atıştırmalıklar']['kek'] -= 10"
   ]
  },
  {
   "cell_type": "code",
   "execution_count": 14,
   "id": "1d3a5069",
   "metadata": {},
   "outputs": [
    {
     "data": {
      "text/plain": [
       "{'meyveler': {'elma': 10, 'muz': 5, 'portakal': 7, 'çilek': 20},\n",
       " 'sebzeler': {'domates': 8, 'biber': 12, 'patlıcan': 5, 'ıspanak': 15},\n",
       " 'içecekler': {'su': 30, 'meyve suyu': 15, 'çay': 20, 'kola': 10},\n",
       " 'atıştırmalıklar': {'cips': 25, 'çikolata': 30, 'kek': 5, 'bisküvi': 20}}"
      ]
     },
     "execution_count": 14,
     "metadata": {},
     "output_type": "execute_result"
    }
   ],
   "source": [
    "data"
   ]
  },
  {
   "cell_type": "markdown",
   "id": "f84472de",
   "metadata": {},
   "source": [
    "## Soru 7\n",
    "'sebzeler' kategorisinden 'patlıcan'ı kaldırın."
   ]
  },
  {
   "cell_type": "code",
   "execution_count": 15,
   "id": "8b6631d6",
   "metadata": {},
   "outputs": [
    {
     "data": {
      "text/plain": [
       "5"
      ]
     },
     "execution_count": 15,
     "metadata": {},
     "output_type": "execute_result"
    }
   ],
   "source": [
    "data['sebzeler'].pop('patlıcan', None)"
   ]
  },
  {
   "cell_type": "code",
   "execution_count": 16,
   "id": "d9013d12",
   "metadata": {},
   "outputs": [
    {
     "data": {
      "text/plain": [
       "{'meyveler': {'elma': 10, 'muz': 5, 'portakal': 7, 'çilek': 20},\n",
       " 'sebzeler': {'domates': 8, 'biber': 12, 'ıspanak': 15},\n",
       " 'içecekler': {'su': 30, 'meyve suyu': 15, 'çay': 20, 'kola': 10},\n",
       " 'atıştırmalıklar': {'cips': 25, 'çikolata': 30, 'kek': 5, 'bisküvi': 20}}"
      ]
     },
     "execution_count": 16,
     "metadata": {},
     "output_type": "execute_result"
    }
   ],
   "source": [
    "data"
   ]
  },
  {
   "cell_type": "markdown",
   "id": "9edb95a2",
   "metadata": {},
   "source": [
    "## Soru 8\n",
    "'meyveler' kategorisine yeni bir meyve ekleyin ('kiwi', stok sayısı 25)."
   ]
  },
  {
   "cell_type": "code",
   "execution_count": 17,
   "id": "dd7f9a33",
   "metadata": {},
   "outputs": [],
   "source": [
    "data['meyveler']['kiwi'] = 25"
   ]
  },
  {
   "cell_type": "code",
   "execution_count": 18,
   "id": "f763e9b8",
   "metadata": {},
   "outputs": [
    {
     "data": {
      "text/plain": [
       "{'meyveler': {'elma': 10, 'muz': 5, 'portakal': 7, 'çilek': 20, 'kiwi': 25},\n",
       " 'sebzeler': {'domates': 8, 'biber': 12, 'ıspanak': 15},\n",
       " 'içecekler': {'su': 30, 'meyve suyu': 15, 'çay': 20, 'kola': 10},\n",
       " 'atıştırmalıklar': {'cips': 25, 'çikolata': 30, 'kek': 5, 'bisküvi': 20}}"
      ]
     },
     "execution_count": 18,
     "metadata": {},
     "output_type": "execute_result"
    }
   ],
   "source": [
    "data"
   ]
  },
  {
   "cell_type": "markdown",
   "id": "ac5769c4",
   "metadata": {},
   "source": [
    "## Soru 9\n",
    "'içecekler' kategorisinde 'kola'nın stok sayısını varsayılan olarak 5 belirleyin ve getirin."
   ]
  },
  {
   "cell_type": "code",
   "execution_count": 20,
   "id": "1d323c9d",
   "metadata": {},
   "outputs": [
    {
     "data": {
      "text/plain": [
       "10"
      ]
     },
     "execution_count": 20,
     "metadata": {},
     "output_type": "execute_result"
    }
   ],
   "source": [
    "kola_stok = data['içecekler'].setdefault('kola', 5)\n",
    "kola_stok"
   ]
  },
  {
   "cell_type": "markdown",
   "id": "c73dae38",
   "metadata": {},
   "source": [
    "## Soru 10\n",
    "Tüm 'meyveler' kategorisini yeni stok sayılarıyla güncelleyin."
   ]
  },
  {
   "cell_type": "code",
   "execution_count": 21,
   "id": "c9846749",
   "metadata": {},
   "outputs": [],
   "source": [
    "data['meyveler'].update({'elma': 15, 'muz': 10, 'portakal': 12, 'çilek': 25, 'kiwi': 30})"
   ]
  },
  {
   "cell_type": "code",
   "execution_count": 22,
   "id": "35174f15",
   "metadata": {},
   "outputs": [
    {
     "data": {
      "text/plain": [
       "{'meyveler': {'elma': 15, 'muz': 10, 'portakal': 12, 'çilek': 25, 'kiwi': 30},\n",
       " 'sebzeler': {'domates': 8, 'biber': 12, 'ıspanak': 15},\n",
       " 'içecekler': {'su': 30, 'meyve suyu': 15, 'çay': 20, 'kola': 10},\n",
       " 'atıştırmalıklar': {'cips': 25, 'çikolata': 30, 'kek': 5, 'bisküvi': 20}}"
      ]
     },
     "execution_count": 22,
     "metadata": {},
     "output_type": "execute_result"
    }
   ],
   "source": [
    "data"
   ]
  },
  {
   "cell_type": "markdown",
   "id": "851899c7",
   "metadata": {},
   "source": [
    "## Soru 11\n",
    "'sebzeler' kategorisinin sadece değerlerini listeleyin."
   ]
  },
  {
   "cell_type": "code",
   "execution_count": 23,
   "id": "c9b2c6d3",
   "metadata": {},
   "outputs": [],
   "source": [
    "sebze_degerler = data['sebzeler'].values()"
   ]
  },
  {
   "cell_type": "code",
   "execution_count": 24,
   "id": "83e3fddc",
   "metadata": {},
   "outputs": [
    {
     "data": {
      "text/plain": [
       "dict_values([8, 12, 15])"
      ]
     },
     "execution_count": 24,
     "metadata": {},
     "output_type": "execute_result"
    }
   ],
   "source": [
    "sebze_degerler"
   ]
  }
 ],
 "metadata": {
  "kernelspec": {
   "display_name": "base",
   "language": "python",
   "name": "python3"
  },
  "language_info": {
   "codemirror_mode": {
    "name": "ipython",
    "version": 3
   },
   "file_extension": ".py",
   "mimetype": "text/x-python",
   "name": "python",
   "nbconvert_exporter": "python",
   "pygments_lexer": "ipython3",
   "version": "3.11.7"
  }
 },
 "nbformat": 4,
 "nbformat_minor": 5
}
