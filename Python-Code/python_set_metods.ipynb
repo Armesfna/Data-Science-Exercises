{
 "cells": [
  {
   "cell_type": "code",
   "execution_count": 4,
   "id": "ce4f0663",
   "metadata": {},
   "outputs": [
    {
     "data": {
      "text/plain": [
       "{'kiraz'}"
      ]
     },
     "execution_count": 4,
     "metadata": {},
     "output_type": "execute_result"
    }
   ],
   "source": [
    "# Soru 1: Verilen iki küme arasındaki farkı bulun\n",
    "kume1 = {'elma', 'muz', 'kiraz'}\n",
    "kume2 = {'muz', 'portakal', 'elma'}\n",
    "\n",
    "# Farkı bulma\n",
    "fark = kume1.difference(kume2)\n",
    "fark"
   ]
  },
  {
   "cell_type": "code",
   "execution_count": 5,
   "id": "a8573908",
   "metadata": {},
   "outputs": [
    {
     "data": {
      "text/plain": [
       "{'elma', 'muz'}"
      ]
     },
     "execution_count": 5,
     "metadata": {},
     "output_type": "execute_result"
    }
   ],
   "source": [
    "# Soru 2: Bir kümeden belirli bir öğeyi güvenli bir şekilde kaldırın\n",
    "kume = {'elma', 'muz', 'kiraz'}\n",
    "\n",
    "# 'kiraz' öğesini güvenli bir şekilde kaldırma\n",
    "kume.discard('kiraz')\n",
    "kume"
   ]
  },
  {
   "cell_type": "code",
   "execution_count": 6,
   "id": "d37cf8fe",
   "metadata": {},
   "outputs": [
    {
     "data": {
      "text/plain": [
       "{'elma', 'muz'}"
      ]
     },
     "execution_count": 6,
     "metadata": {},
     "output_type": "execute_result"
    }
   ],
   "source": [
    "# Soru 3: İki küme arasındaki ortak öğeleri bulun\n",
    "kume1 = {'elma', 'muz', 'kiraz'}\n",
    "kume2 = {'muz', 'portakal', 'elma'}\n",
    "\n",
    "# Ortak öğeleri bulma\n",
    "kesisim = kume1.intersection(kume2)\n",
    "kesisim"
   ]
  },
  {
   "cell_type": "code",
   "execution_count": 7,
   "id": "2c1b21ae",
   "metadata": {},
   "outputs": [
    {
     "data": {
      "text/plain": [
       "True"
      ]
     },
     "execution_count": 7,
     "metadata": {},
     "output_type": "execute_result"
    }
   ],
   "source": [
    "# Soru 4: Bir kümenin başka bir kümenin alt kümesi olup olmadığını kontrol edin\n",
    "alt_kume = {'elma', 'muz'}\n",
    "kume = {'elma', 'muz', 'kiraz'}\n",
    "\n",
    "# Alt küme kontrolü\n",
    "alt_kume.issubset(kume)"
   ]
  },
  {
   "cell_type": "code",
   "execution_count": 8,
   "id": "d39f20c1",
   "metadata": {},
   "outputs": [
    {
     "data": {
      "text/plain": [
       "{'elma', 'kiraz', 'muz', 'portakal'}"
      ]
     },
     "execution_count": 8,
     "metadata": {},
     "output_type": "execute_result"
    }
   ],
   "source": [
    "# Soru 5: İki kümenin birleşimini bulun\n",
    "kume1 = {'elma', 'muz', 'kiraz'}\n",
    "kume2 = {'muz', 'portakal', 'elma'}\n",
    "\n",
    "# Birleşimini bulma\n",
    "birlesim = kume1.union(kume2)\n",
    "birlesim"
   ]
  },
  {
   "cell_type": "code",
   "execution_count": 9,
   "id": "50bd4593",
   "metadata": {},
   "outputs": [
    {
     "data": {
      "text/plain": [
       "{'avokado', 'elma', 'kiraz', 'muz', 'portakal'}"
      ]
     },
     "execution_count": 9,
     "metadata": {},
     "output_type": "execute_result"
    }
   ],
   "source": [
    "# Soru 6: Bir kümedeki öğeleri, başka bir yinelenebilir nesne ile güncelleyin\n",
    "kume = {'elma', 'muz', 'kiraz'}\n",
    "yeni_ogeler = ['avokado', 'muz', 'portakal']\n",
    "\n",
    "# Küme güncelleme\n",
    "kume.update(yeni_ogeler)\n",
    "kume"
   ]
  },
  {
   "cell_type": "code",
   "execution_count": 10,
   "id": "64957c89",
   "metadata": {},
   "outputs": [
    {
     "data": {
      "text/plain": [
       "('elma', {'kiraz', 'muz'})"
      ]
     },
     "execution_count": 10,
     "metadata": {},
     "output_type": "execute_result"
    }
   ],
   "source": [
    "# Soru 7: Bir kümeden rastgele bir öğeyi kaldırın ve hangi öğenin kaldırıldığını gösterin\n",
    "kume = {'elma', 'muz', 'kiraz'}\n",
    "\n",
    "# Rastgele bir öğe kaldırma\n",
    "kaldırılan = kume.pop()\n",
    "kaldırılan, kume"
   ]
  },
  {
   "cell_type": "code",
   "execution_count": 11,
   "id": "88b66e36",
   "metadata": {},
   "outputs": [
    {
     "data": {
      "text/plain": [
       "{'kiraz', 'portakal'}"
      ]
     },
     "execution_count": 11,
     "metadata": {},
     "output_type": "execute_result"
    }
   ],
   "source": [
    "# Soru 8: İki kümenin simetrik farkını bulun\n",
    "kume1 = {'elma', 'muz', 'kiraz'}\n",
    "kume2 = {'muz', 'portakal', 'elma'}\n",
    "\n",
    "# Simetrik farkı bulma\n",
    "simetrik_fark = kume1.symmetric_difference(kume2)\n",
    "simetrik_fark"
   ]
  },
  {
   "cell_type": "code",
   "execution_count": 12,
   "id": "c8a52dba",
   "metadata": {},
   "outputs": [
    {
     "data": {
      "text/plain": [
       "set()"
      ]
     },
     "execution_count": 12,
     "metadata": {},
     "output_type": "execute_result"
    }
   ],
   "source": [
    "# Soru 9: Bir kümeden tüm öğeleri kaldırın ve sonucu kontrol edin\n",
    "kume = {'elma', 'muz', 'kiraz'}\n",
    "\n",
    "# Tüm öğeleri kaldırma\n",
    "kume.clear()\n",
    "kume"
   ]
  },
  {
   "cell_type": "code",
   "execution_count": 13,
   "id": "b59b406b",
   "metadata": {},
   "outputs": [
    {
     "data": {
      "text/plain": [
       "{'kiraz'}"
      ]
     },
     "execution_count": 13,
     "metadata": {},
     "output_type": "execute_result"
    }
   ],
   "source": [
    "# Soru 10: İki küme arasındaki farkı güncelleyin\n",
    "kume1 = {'elma', 'muz', 'kiraz'}\n",
    "kume2 = {'muz', 'portakal', 'elma'}\n",
    "\n",
    "# Farkı güncelleme\n",
    "kume1.difference_update(kume2)\n",
    "kume1"
   ]
  }
 ],
 "metadata": {
  "kernelspec": {
   "display_name": "base",
   "language": "python",
   "name": "python3"
  },
  "language_info": {
   "codemirror_mode": {
    "name": "ipython",
    "version": 3
   },
   "file_extension": ".py",
   "mimetype": "text/x-python",
   "name": "python",
   "nbconvert_exporter": "python",
   "pygments_lexer": "ipython3",
   "version": "3.11.7"
  }
 },
 "nbformat": 4,
 "nbformat_minor": 5
}
