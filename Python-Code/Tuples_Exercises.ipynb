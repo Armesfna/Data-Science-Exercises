{
 "cells": [
  {
   "cell_type": "code",
   "execution_count": 4,
   "metadata": {},
   "outputs": [],
   "source": [
    "veri_seti_1 = (\"elma\", \"armut\", \"muz\", \"çilek\", \"karpuz\", \"üzüm\", \"portakal\", \"kiraz\", \"erik\", \"şeftali\")"
   ]
  },
  {
   "cell_type": "markdown",
   "metadata": {},
   "source": [
    "1.Veri setinde kaç öğe var?"
   ]
  },
  {
   "cell_type": "code",
   "execution_count": 4,
   "metadata": {},
   "outputs": [
    {
     "data": {
      "text/plain": [
       "10"
      ]
     },
     "execution_count": 4,
     "metadata": {},
     "output_type": "execute_result"
    }
   ],
   "source": [
    "len(veri_seti_1)"
   ]
  },
  {
   "cell_type": "markdown",
   "metadata": {},
   "source": [
    "2.\"muz\" öğesi veri setinde kaçıncı sırada?"
   ]
  },
  {
   "cell_type": "code",
   "execution_count": 7,
   "metadata": {},
   "outputs": [
    {
     "data": {
      "text/plain": [
       "3"
      ]
     },
     "execution_count": 7,
     "metadata": {},
     "output_type": "execute_result"
    }
   ],
   "source": [
    "veri_seti_1.index(\"muz\") +1"
   ]
  },
  {
   "cell_type": "markdown",
   "metadata": {},
   "source": [
    "3.Veri setinin ilk üç öğesini nasıl alırsınız?"
   ]
  },
  {
   "cell_type": "code",
   "execution_count": 9,
   "metadata": {},
   "outputs": [
    {
     "data": {
      "text/plain": [
       "('elma', 'armut', 'muz')"
      ]
     },
     "execution_count": 9,
     "metadata": {},
     "output_type": "execute_result"
    }
   ],
   "source": [
    "veri_seti_1[0:3]"
   ]
  },
  {
   "cell_type": "markdown",
   "metadata": {},
   "source": [
    "4.\"karpuz\" öğesi veri setinde var mı?"
   ]
  },
  {
   "cell_type": "code",
   "execution_count": 10,
   "metadata": {},
   "outputs": [
    {
     "name": "stdout",
     "output_type": "stream",
     "text": [
      "karpuz öğesi veri setinde vardır \n"
     ]
    }
   ],
   "source": [
    "if \"karpuz\" in veri_seti_1:\n",
    "    print(\"karpuz öğesi veri setinde vardır \")\n",
    "else:\n",
    "    print(\"karpuz öğesi veri setinde yoktur \")"
   ]
  },
  {
   "cell_type": "markdown",
   "metadata": {},
   "source": [
    "5.Veri setindeki son öğe nedir?"
   ]
  },
  {
   "cell_type": "code",
   "execution_count": 11,
   "metadata": {},
   "outputs": [
    {
     "data": {
      "text/plain": [
       "'şeftali'"
      ]
     },
     "execution_count": 11,
     "metadata": {},
     "output_type": "execute_result"
    }
   ],
   "source": [
    "veri_seti_1[-1]"
   ]
  },
  {
   "cell_type": "code",
   "execution_count": 5,
   "metadata": {},
   "outputs": [],
   "source": [
    "veri_seti_2 = [\n",
    "    (\"Ali\", 25, \"Erkek\"),\n",
    "    (\"Ayşe\", 30, \"Kadın\"),\n",
    "    (\"Mehmet\", 35, \"Erkek\"),\n",
    "    (\"Fatma\", 28, \"Kadın\"),\n",
    "    (\"Ahmet\", 40, \"Erkek\"),\n",
    "    (\"Zeynep\", 33, \"Kadın\"),\n",
    "    (\"Mustafa\", 29, \"Erkek\"),\n",
    "    (\"Elif\", 27, \"Kadın\"),\n",
    "    (\"Can\", 32, \"Erkek\"),\n",
    "    (\"Esra\", 31, \"Kadın\")]"
   ]
  },
  {
   "cell_type": "markdown",
   "metadata": {},
   "source": [
    "6. Veri setinde kaç tane kişi var?"
   ]
  },
  {
   "cell_type": "code",
   "execution_count": 13,
   "metadata": {},
   "outputs": [
    {
     "data": {
      "text/plain": [
       "10"
      ]
     },
     "execution_count": 13,
     "metadata": {},
     "output_type": "execute_result"
    }
   ],
   "source": [
    "len(veri_seti_2)"
   ]
  },
  {
   "cell_type": "markdown",
   "metadata": {},
   "source": [
    "7. Veri setindeki en yaşlı kişi kimdir?"
   ]
  },
  {
   "cell_type": "code",
   "execution_count": 25,
   "metadata": {},
   "outputs": [
    {
     "name": "stdout",
     "output_type": "stream",
     "text": [
      " Ahmet 40 yaşında grubun en yaşlı kişisidir.\n"
     ]
    }
   ],
   "source": [
    "yaslar = []\n",
    "\n",
    "for x, y, z in veri_seti_2:\n",
    "    yaslar.append(y)\n",
    "yaslar\n",
    "max(yaslar)\n",
    "\n",
    "for x, y,z in veri_seti_2:\n",
    "    if y == max(yaslar):\n",
    "        print(f\" {x} {y} yaşında grubun en yaşlı kişisidir.\")"
   ]
  },
  {
   "cell_type": "code",
   "execution_count": 26,
   "metadata": {},
   "outputs": [
    {
     "data": {
      "text/plain": [
       "['Ahmet']"
      ]
     },
     "execution_count": 26,
     "metadata": {},
     "output_type": "execute_result"
    }
   ],
   "source": [
    "max([kisi[1] for kisi in veri_seti_2])\n",
    "en_yaslı_kisi = [kisi[0] for kisi in veri_seti_2 if kisi[1] ==max(yaslar)]\n",
    "en_yaslı_kisi"
   ]
  },
  {
   "cell_type": "code",
   "execution_count": 27,
   "metadata": {},
   "outputs": [
    {
     "name": "stdout",
     "output_type": "stream",
     "text": [
      "Ahmet  40 yaşındadır ve grubun en yaşlı kişisidir.\n"
     ]
    }
   ],
   "source": [
    "max_age = 0\n",
    "name = \"\"\n",
    "for kisi in veri_seti_2:\n",
    "    if kisi[1] > max_age:\n",
    "        max_age = kisi[1]\n",
    "        name = kisi[0]\n",
    "print (f\"{name}  {max_age} yaşındadır ve grubun en yaşlı kişisidir.\")"
   ]
  },
  {
   "cell_type": "markdown",
   "metadata": {},
   "source": [
    "8. Veri setindeki en genç kişi kimdir?"
   ]
  },
  {
   "cell_type": "code",
   "execution_count": 36,
   "metadata": {},
   "outputs": [
    {
     "name": "stdout",
     "output_type": "stream",
     "text": [
      "Ali  25 yaşındadır ve grubun en genç kişisidir.\n"
     ]
    }
   ],
   "source": [
    "min_age = 200\n",
    "\n",
    "name = \"\"\n",
    "\n",
    "for kisi in veri_seti_2:\n",
    "    if kisi[1] < min_age:\n",
    "        min_age = kisi[1]\n",
    "        name = kisi[0]\n",
    "print (f\"{name}  {min_age} yaşındadır ve grubun en genç kişisidir.\")"
   ]
  },
  {
   "cell_type": "code",
   "execution_count": 32,
   "metadata": {},
   "outputs": [
    {
     "name": "stdout",
     "output_type": "stream",
     "text": [
      " Ali 25 yaşında grubun en genç kişisidir.\n"
     ]
    }
   ],
   "source": [
    "yaslar = []\n",
    "\n",
    "for x, y, z in veri_seti_2:\n",
    "    yaslar.append(y)\n",
    "yaslar\n",
    "min(yaslar)\n",
    "\n",
    "for x, y,z in veri_seti_2:\n",
    "    if y == min(yaslar):\n",
    "        print(f\" {x} {y} yaşında grubun en genç kişisidir.\")"
   ]
  },
  {
   "cell_type": "markdown",
   "metadata": {},
   "source": [
    "9. Ortalama yaş kaçtır?"
   ]
  },
  {
   "cell_type": "code",
   "execution_count": null,
   "metadata": {},
   "outputs": [],
   "source": [
    "yaslar = [kisi[1] for kisi in veri_seti_2]\n",
    "ort_yas = sum(yaslar) / len(yaslar)\n",
    "print(f\" Grubun ortalama yasi {round(ort_yas)} dir.\")"
   ]
  },
  {
   "cell_type": "code",
   "execution_count": 44,
   "metadata": {},
   "outputs": [
    {
     "name": "stdout",
     "output_type": "stream",
     "text": [
      " Grubun ortalama yasi 31 dir.\n"
     ]
    }
   ],
   "source": [
    "yaslar = [kisi[1] for kisi in veri_seti_2]\n",
    "ort_yas = sum(yaslar) // len(yaslar)\n",
    "print(f\" Grubun ortalama yasi {ort_yas} dir.\")"
   ]
  },
  {
   "cell_type": "code",
   "execution_count": 45,
   "metadata": {},
   "outputs": [
    {
     "data": {
      "text/plain": [
       "[('Ali', 25, 'Erkek'),\n",
       " ('Ayşe', 30, 'Kadın'),\n",
       " ('Mehmet', 35, 'Erkek'),\n",
       " ('Fatma', 28, 'Kadın'),\n",
       " ('Ahmet', 40, 'Erkek'),\n",
       " ('Zeynep', 33, 'Kadın'),\n",
       " ('Mustafa', 29, 'Erkek'),\n",
       " ('Elif', 27, 'Kadın'),\n",
       " ('Can', 32, 'Erkek'),\n",
       " ('Esra', 31, 'Kadın')]"
      ]
     },
     "execution_count": 45,
     "metadata": {},
     "output_type": "execute_result"
    }
   ],
   "source": [
    "veri_seti_2"
   ]
  },
  {
   "cell_type": "markdown",
   "metadata": {},
   "source": [
    "10. Erkeklerin yaş ortalaması nedir?"
   ]
  },
  {
   "cell_type": "code",
   "execution_count": 47,
   "metadata": {},
   "outputs": [
    {
     "name": "stdout",
     "output_type": "stream",
     "text": [
      " Grubun erkek ortalama yasi 32 dir.\n"
     ]
    }
   ],
   "source": [
    "yaslar = [kisi[1] for kisi in veri_seti_2 if kisi[2] == \"Erkek\"]\n",
    "erke_ort_yas = sum(yaslar) // len(yaslar)\n",
    "print(f\" Grubun erkek ortalama yasi {erke_ort_yas} dir.\")"
   ]
  },
  {
   "cell_type": "markdown",
   "metadata": {},
   "source": [
    "11. Kadınların yaş ortalaması nedir?"
   ]
  },
  {
   "cell_type": "code",
   "execution_count": 49,
   "metadata": {},
   "outputs": [
    {
     "name": "stdout",
     "output_type": "stream",
     "text": [
      " Grubun kadın ortalama yasi 29 dir.\n"
     ]
    }
   ],
   "source": [
    "yaslar = [kisi[1] for kisi in veri_seti_2 if kisi[2] == \"Kadın\"]\n",
    "kadın_yas_ort = sum(yaslar) // len(yaslar)\n",
    "print(f\" Grubun kadın ortalama yasi {kadın_yas_ort} dir.\")"
   ]
  },
  {
   "cell_type": "markdown",
   "metadata": {},
   "source": [
    "12. En yaşlı erkek kaç yaşındadır?"
   ]
  },
  {
   "cell_type": "code",
   "execution_count": 66,
   "metadata": {},
   "outputs": [
    {
     "data": {
      "text/plain": [
       "40"
      ]
     },
     "execution_count": 66,
     "metadata": {},
     "output_type": "execute_result"
    }
   ],
   "source": [
    "en_yaslı = max([kisi[1] for kisi in veri_seti_2 if kisi[2] == \"Erkek\"])\n",
    "en_yaslı\n"
   ]
  },
  {
   "cell_type": "code",
   "execution_count": 64,
   "metadata": {},
   "outputs": [
    {
     "data": {
      "text/plain": [
       "[('Ahmet', 40, 'Erkek')]"
      ]
     },
     "execution_count": 64,
     "metadata": {},
     "output_type": "execute_result"
    }
   ],
   "source": [
    "[kisi for kisi in veri_seti_2 if kisi[1] == en_yaslı and kisi[2] ==\"Erkek\"]"
   ]
  },
  {
   "cell_type": "markdown",
   "metadata": {},
   "source": [
    "13. En genç kadın kaç yaşındadır?"
   ]
  },
  {
   "cell_type": "code",
   "execution_count": 69,
   "metadata": {},
   "outputs": [
    {
     "data": {
      "text/plain": [
       "27"
      ]
     },
     "execution_count": 69,
     "metadata": {},
     "output_type": "execute_result"
    }
   ],
   "source": [
    "en_genc_kadın = min([kisi[1] for kisi in veri_seti_2 if kisi[2] == \"Kadın\"])\n",
    "en_genc_kadın"
   ]
  },
  {
   "cell_type": "code",
   "execution_count": 3,
   "metadata": {},
   "outputs": [
    {
     "ename": "NameError",
     "evalue": "name 'veri_seti_2' is not defined",
     "output_type": "error",
     "traceback": [
      "\u001b[1;31m---------------------------------------------------------------------------\u001b[0m",
      "\u001b[1;31mNameError\u001b[0m                                 Traceback (most recent call last)",
      "Cell \u001b[1;32mIn[3], line 1\u001b[0m\n\u001b[1;32m----> 1\u001b[0m veri_seti_2\n",
      "\u001b[1;31mNameError\u001b[0m: name 'veri_seti_2' is not defined"
     ]
    }
   ],
   "source": [
    "veri_seti_2"
   ]
  },
  {
   "cell_type": "markdown",
   "metadata": {},
   "source": [
    "14. Yaşı 30'dan büyük olan kişilerin isimleri nelerdir?"
   ]
  },
  {
   "cell_type": "code",
   "execution_count": 76,
   "metadata": {},
   "outputs": [
    {
     "name": "stdout",
     "output_type": "stream",
     "text": [
      " Grubun 30 yas üstü isimleri: ['Mehmet', 'Ahmet', 'Zeynep', 'Can', 'Esra']\n"
     ]
    }
   ],
   "source": [
    "otuz_yas_ustu = [kisi[0] for kisi in veri_seti_2 if kisi[1] > 30]\n",
    "print(f\" Grubun 30 yas üstü isimleri: {otuz_yas_ustu}\")"
   ]
  },
  {
   "cell_type": "code",
   "execution_count": 78,
   "metadata": {},
   "outputs": [
    {
     "name": "stdout",
     "output_type": "stream",
     "text": [
      " Grubun 30 yas üstü kadınları : ['Zeynep', 'Esra']\n"
     ]
    }
   ],
   "source": [
    "otuz_yas_ustu = [kisi[0] for kisi in veri_seti_2 if kisi[1] > 30 and kisi[2] == \"Kadın\"]\n",
    "print(f\" Grubun 30 yas üstü kadınları : {otuz_yas_ustu}\")"
   ]
  },
  {
   "cell_type": "markdown",
   "metadata": {},
   "source": [
    "15. Yaşı 25 ile 35 arasında olan kadınların sayısı kaçtır? (25 ile 35 dahil değil)"
   ]
  },
  {
   "cell_type": "code",
   "execution_count": 87,
   "metadata": {},
   "outputs": [
    {
     "data": {
      "text/plain": [
       "5"
      ]
     },
     "execution_count": 87,
     "metadata": {},
     "output_type": "execute_result"
    }
   ],
   "source": [
    "len([kisi for kisi in veri_seti_2 if 25 < kisi[1] < 35 and kisi[2] == \"Kadın\"])"
   ]
  },
  {
   "cell_type": "code",
   "execution_count": 88,
   "metadata": {},
   "outputs": [
    {
     "data": {
      "text/plain": [
       "[('Ayşe', 30, 'Kadın'),\n",
       " ('Fatma', 28, 'Kadın'),\n",
       " ('Zeynep', 33, 'Kadın'),\n",
       " ('Elif', 27, 'Kadın'),\n",
       " ('Esra', 31, 'Kadın')]"
      ]
     },
     "execution_count": 88,
     "metadata": {},
     "output_type": "execute_result"
    }
   ],
   "source": [
    "[kisi for kisi in veri_seti_2 if 25 < kisi[1] < 35 and kisi[2] == \"Kadın\"]"
   ]
  },
  {
   "cell_type": "code",
   "execution_count": 95,
   "metadata": {},
   "outputs": [
    {
     "data": {
      "text/plain": [
       "[None, None, None, 'Fatma', None, None, 'Mustafa', 'Elif', None, None]"
      ]
     },
     "execution_count": 95,
     "metadata": {},
     "output_type": "execute_result"
    }
   ],
   "source": [
    "list(map( lambda x : x[0] if 30 > x[1] > 25 else None , veri_seti_2))"
   ]
  },
  {
   "cell_type": "markdown",
   "metadata": {},
   "source": [
    "16. 'Ali' adında bir kişi var mı? Varsa hangi cinsiyettedir?"
   ]
  },
  {
   "cell_type": "code",
   "execution_count": 6,
   "metadata": {},
   "outputs": [
    {
     "name": "stdout",
     "output_type": "stream",
     "text": [
      " Ali kişisi bu veri setinde vardır ve cinsiyeti ['Erkek'] dir\n"
     ]
    }
   ],
   "source": [
    "cinsiyet = [kisi[2] for kisi in veri_seti_2 if kisi[0] == \"Ali\"] \n",
    "print(f\" Ali kişisi bu veri setinde vardır ve cinsiyeti {cinsiyet} dir\")"
   ]
  },
  {
   "cell_type": "markdown",
   "metadata": {},
   "source": [
    "CEVAPLAR"
   ]
  },
  {
   "cell_type": "code",
   "execution_count": 15,
   "metadata": {},
   "outputs": [
    {
     "name": "stdout",
     "output_type": "stream",
     "text": [
      "1. Soru - Veri setindeki öğe sayısı: 10\n"
     ]
    }
   ],
   "source": [
    "# 1. Veri setinde kaç öğe var?\n",
    "print(\"1. Soru - Veri setindeki öğe sayısı:\", len(veri_seti_1))"
   ]
  },
  {
   "cell_type": "code",
   "execution_count": 16,
   "metadata": {},
   "outputs": [
    {
     "name": "stdout",
     "output_type": "stream",
     "text": [
      "2. Soru - 'muz' öğesi veri setinde 3 . sırada bulunuyor.\n"
     ]
    }
   ],
   "source": [
    "# 2. \"muz\" öğesi veri setinde kaçıncı sırada?\n",
    "print(\"2. Soru - 'muz' öğesi veri setinde\", veri_seti_1.index(\"muz\") + 1, \". sırada bulunuyor.\")"
   ]
  },
  {
   "cell_type": "code",
   "execution_count": 17,
   "metadata": {},
   "outputs": [
    {
     "name": "stdout",
     "output_type": "stream",
     "text": [
      "3. Soru - Veri setinin ilk üç öğesi: ('elma', 'armut', 'muz')\n"
     ]
    }
   ],
   "source": [
    "# 3. Veri setinin ilk üç öğesini nasıl alırsınız?\n",
    "print(\"3. Soru - Veri setinin ilk üç öğesi:\", veri_seti_1[:3])"
   ]
  },
  {
   "cell_type": "code",
   "execution_count": 12,
   "metadata": {},
   "outputs": [
    {
     "name": "stdout",
     "output_type": "stream",
     "text": [
      "4. Soru - 'karpuz' öğesi veri setinde bulunuyor.\n"
     ]
    }
   ],
   "source": [
    "# 4. \"karpuz\" öğesi veri setinde var mı?\n",
    "if \"karpuz\" in veri_seti_1:\n",
    "    print(\"4. Soru - 'karpuz' öğesi veri setinde bulunuyor.\")\n",
    "else:\n",
    "    print(\"4. Soru - 'karpuz' öğesi veri setinde bulunmuyor.\")"
   ]
  },
  {
   "cell_type": "code",
   "execution_count": 4,
   "metadata": {},
   "outputs": [
    {
     "name": "stdout",
     "output_type": "stream",
     "text": [
      "5. Soru - Veri setindeki son öğe: şeftali\n"
     ]
    }
   ],
   "source": [
    "# 5. Veri setindeki son öğe nedir?\n",
    "print(\"5. Soru - Veri setindeki son öğe:\", veri_seti_1[-1])"
   ]
  },
  {
   "cell_type": "code",
   "execution_count": 19,
   "metadata": {},
   "outputs": [
    {
     "name": "stdout",
     "output_type": "stream",
     "text": [
      "Soru 1 Cevap: 10\n"
     ]
    }
   ],
   "source": [
    "# 6. Veri setinde kaç tane kişi var?\n",
    "print(\"Soru 6 Cevap:\", len(veri_seti_2))"
   ]
  },
  {
   "cell_type": "code",
   "execution_count": 21,
   "metadata": {},
   "outputs": [
    {
     "name": "stdout",
     "output_type": "stream",
     "text": [
      "Soru 2 Cevap: ('Ahmet', 40, 'Erkek')\n"
     ]
    }
   ],
   "source": [
    "# 7. Veri setindeki en yaşlı kişi kimdir?\n",
    "print(\"Soru 7 Cevap:\", max(veri_seti_2, key=lambda x: x[1]))"
   ]
  },
  {
   "cell_type": "code",
   "execution_count": 24,
   "metadata": {},
   "outputs": [
    {
     "name": "stdout",
     "output_type": "stream",
     "text": [
      "Soru 8 Cevap: ('Ali', 25, 'Erkek')\n"
     ]
    }
   ],
   "source": [
    "# 8. Veri setindeki en genç kişi kimdir?\n",
    "print(\"Soru 8 Cevap:\", min(veri_seti_2, key=lambda x: x[1]))"
   ]
  },
  {
   "cell_type": "code",
   "execution_count": 25,
   "metadata": {},
   "outputs": [
    {
     "name": "stdout",
     "output_type": "stream",
     "text": [
      "Soru 9 Cevap: 31.0\n"
     ]
    }
   ],
   "source": [
    "# 9.  Ortalama yaş kaçtır?\n",
    "ortalama_yas = sum(kisi[1] for kisi in veri_seti_2) / len(veri_seti_2)\n",
    "print(\"Soru 9 Cevap:\", ortalama_yas)"
   ]
  },
  {
   "cell_type": "code",
   "execution_count": 26,
   "metadata": {},
   "outputs": [
    {
     "name": "stdout",
     "output_type": "stream",
     "text": [
      "Soru 5 Cevap: 32.2\n"
     ]
    }
   ],
   "source": [
    "# 10. Erkeklerin yaş ortalaması nedir?\n",
    "erkek_yas_ort = sum(kisi[1] for kisi in veri_seti_2 if kisi[2] == \"Erkek\") / len([kisi for kisi in veri_seti_2 if kisi[2] == \"Erkek\"])\n",
    "print(\"Soru 10 Cevap:\", erkek_yas_ort)"
   ]
  },
  {
   "cell_type": "code",
   "execution_count": 27,
   "metadata": {},
   "outputs": [
    {
     "name": "stdout",
     "output_type": "stream",
     "text": [
      "Soru 6 Cevap: 29.8\n"
     ]
    }
   ],
   "source": [
    "# 11. Kadınların yaş ortalaması nedir?\n",
    "kadin_yas_ort = sum(kisi[1] for kisi in veri_seti_2 if kisi[2] == \"Kadın\") / len([kisi for kisi in veri_seti_2 if kisi[2] == \"Kadın\"])\n",
    "print(\"Soru 11 Cevap:\", kadin_yas_ort)"
   ]
  },
  {
   "cell_type": "code",
   "execution_count": 28,
   "metadata": {},
   "outputs": [
    {
     "name": "stdout",
     "output_type": "stream",
     "text": [
      "Soru 7 Cevap: 40\n"
     ]
    }
   ],
   "source": [
    "# 12.  En yaşlı erkek kaç yaşındadır?\n",
    "en_yasli_erkek = max(kisi[1] for kisi in veri_seti_2 if kisi[2] == \"Erkek\")\n",
    "print(\"Soru 7 Cevap:\", en_yasli_erkek)"
   ]
  },
  {
   "cell_type": "code",
   "execution_count": 30,
   "metadata": {},
   "outputs": [
    {
     "name": "stdout",
     "output_type": "stream",
     "text": [
      "Soru 8 Cevap: 27\n"
     ]
    }
   ],
   "source": [
    "# 13. En genç kadın kaç yaşındadır?\n",
    "en_genc_kadin = min(kisi[1] for kisi in veri_seti_2 if kisi[2] == \"Kadın\")\n",
    "print(\"Soru 8 Cevap:\", en_genc_kadin)"
   ]
  },
  {
   "cell_type": "code",
   "execution_count": 31,
   "metadata": {},
   "outputs": [
    {
     "name": "stdout",
     "output_type": "stream",
     "text": [
      "Soru 9 Cevap: ['Mehmet', 'Ahmet', 'Zeynep', 'Can', 'Esra']\n"
     ]
    }
   ],
   "source": [
    "# 14. Yaşı 30'dan büyük olan kişilerin isimleri nelerdir?\n",
    "yas_30_ustu_isimler = [kisi[0] for kisi in veri_seti_2 if kisi[1] > 30]\n",
    "print(\"Soru 9 Cevap:\", yas_30_ustu_isimler)"
   ]
  },
  {
   "cell_type": "code",
   "execution_count": 32,
   "metadata": {},
   "outputs": [
    {
     "name": "stdout",
     "output_type": "stream",
     "text": [
      "Soru 10 Cevap: 5\n"
     ]
    }
   ],
   "source": [
    "# 15. Yaşı 25 ile 35 arasında olan kadınların sayısı kaçtır?\n",
    "yas_araligi_kadin_sayisi = len([kisi for kisi in veri_seti_2 if 25 <= kisi[1] <= 35 and kisi[2] == \"Kadın\"])\n",
    "print(\"Soru 10 Cevap:\", yas_araligi_kadin_sayisi)"
   ]
  },
  {
   "cell_type": "code",
   "execution_count": 34,
   "metadata": {},
   "outputs": [
    {
     "name": "stdout",
     "output_type": "stream",
     "text": [
      "Soru 11 Cevap: Evet, Ali adında bir kişi var ve cinsiyeti Erkek\n"
     ]
    }
   ],
   "source": [
    "# 16 .'Ali' adında bir kişi var mı? Varsa hangi cinsiyettedir?\n",
    "ali_var_mi = any(kisi for kisi in veri_seti_2 if kisi[0] == \"Ali\")\n",
    "if ali_var_mi:\n",
    "    cinsiyet = [kisi[2] for kisi in veri_seti_2 if kisi[0] == \"Ali\"][0]\n",
    "    print(\"Soru 11 Cevap: Evet, Ali adında bir kişi var ve cinsiyeti\", cinsiyet)\n",
    "else:\n",
    "    print(\"Soru 11 Cevap: Hayır, Ali adında bir kişi yok.\")"
   ]
  }
 ],
 "metadata": {
  "kernelspec": {
   "display_name": "base",
   "language": "python",
   "name": "python3"
  },
  "language_info": {
   "codemirror_mode": {
    "name": "ipython",
    "version": 3
   },
   "file_extension": ".py",
   "mimetype": "text/x-python",
   "name": "python",
   "nbconvert_exporter": "python",
   "pygments_lexer": "ipython3",
   "version": "3.11.5"
  }
 },
 "nbformat": 4,
 "nbformat_minor": 2
}
