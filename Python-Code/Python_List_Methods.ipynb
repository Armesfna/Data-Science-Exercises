{
 "cells": [
  {
   "cell_type": "markdown",
   "id": "d1cd7d5a",
   "metadata": {},
   "source": [
    "\n",
    "# Python List Metodları Üzerinde Uygulamalar\n",
    "\n",
    "Bu notebook, Python'daki en çok kullanılan list metodlarını anlamak ve bu metodları Türkçe dilindeki bir veri seti üzerinde nasıl uygulayabileceğimizi göstermek için hazırlanmıştır. \n"
   ]
  },
  {
   "cell_type": "code",
   "execution_count": 1,
   "id": "576c1cbe",
   "metadata": {},
   "outputs": [],
   "source": [
    "\n",
    "sehirler_ve_yemekler = [\n",
    "    {\"şehir\": \"İstanbul\", \"yemekler\": [\"İskender\", \"Mıhlama\", \"Lahmacun\"]},\n",
    "    {\"şehir\": \"Ankara\", \"yemekler\": [\"Beypazarı Kurusu\", \"Ankara Tava\", \"Gözleme\"]},\n",
    "    {\"şehir\": \"İzmir\", \"yemekler\": [\"Boyoz\", \"Kumru\", \"İzmir Köfte\"]},\n",
    "    {\"şehir\": \"Antalya\", \"yemekler\": [\"Piyaz\", \"Tandır\", \"Döner\"]},\n",
    "    {\"şehir\": \"Trabzon\", \"yemekler\": [\"Kuymak\", \"Akçaabat Köftesi\", \"Hamsi Tava\"]}\n",
    "]\n"
   ]
  },
  {
   "cell_type": "code",
   "execution_count": 2,
   "id": "a571647d",
   "metadata": {},
   "outputs": [],
   "source": [
    "\n",
    "sehirler_ve_yemekler_2 = [\n",
    "    {\"şehir\": \"İstanbul\", \"yemekler\": [\"İskender\", \"Mıhlama\", \"Lahmacun\"]},\n",
    "    {\"şehir\": \"Ankara\", \"yemekler\": [\"Beypazarı Kurusu\", \"Ankara Tava\", \"Gözleme\"]},\n",
    "    {\"şehir\": \"İzmir\", \"yemekler\": [\"Boyoz\", \"Kumru\", \"İzmir Köfte\"]},\n",
    "    {\"şehir\": \"Antalya\", \"yemekler\": [\"Piyaz\", \"Tandır\", \"Döner\"]},\n",
    "    {\"şehir\": \"Trabzon\", \"yemekler\": [\"Kuymak\", \"Akçaabat Köftesi\", \"Hamsi Tava\"]}\n",
    "]\n"
   ]
  },
  {
   "cell_type": "markdown",
   "id": "bb535f3a",
   "metadata": {},
   "source": [
    "1. 'Bursa' şehrini ve bu şehre özgü yemekler listesini ('İskender', 'Cantık', 'Kestane Şekeri') içerecek şekilde listeye ekleyin."
   ]
  },
  {
   "cell_type": "code",
   "execution_count": 3,
   "id": "789a4768",
   "metadata": {},
   "outputs": [],
   "source": [
    "sehirler_ve_yemekler_2.append({\"şehir\":\"Bursa\", \"yemekler\":['İskender', 'Cantık', 'Kestane Şekeri']})"
   ]
  },
  {
   "cell_type": "code",
   "execution_count": 5,
   "id": "c39b9bfe",
   "metadata": {},
   "outputs": [
    {
     "data": {
      "text/plain": [
       "[{'şehir': 'İstanbul', 'yemekler': ['İskender', 'Mıhlama', 'Lahmacun']},\n",
       " {'şehir': 'Ankara',\n",
       "  'yemekler': ['Beypazarı Kurusu', 'Ankara Tava', 'Gözleme']},\n",
       " {'şehir': 'İzmir', 'yemekler': ['Boyoz', 'Kumru', 'İzmir Köfte']},\n",
       " {'şehir': 'Antalya', 'yemekler': ['Piyaz', 'Tandır', 'Döner']},\n",
       " {'şehir': 'Trabzon',\n",
       "  'yemekler': ['Kuymak', 'Akçaabat Köftesi', 'Hamsi Tava']},\n",
       " {'şehir': 'Bursa', 'yemekler': ['İskender', 'Cantık', 'Kestane Şekeri']}]"
      ]
     },
     "execution_count": 5,
     "metadata": {},
     "output_type": "execute_result"
    }
   ],
   "source": [
    "sehirler_ve_yemekler_2"
   ]
  },
  {
   "cell_type": "markdown",
   "id": "a9a693ee",
   "metadata": {},
   "source": [
    "2. 'İstanbul' şehrinin yemek listesine 'Balık Ekmek' yemeğini ekleyin."
   ]
  },
  {
   "cell_type": "code",
   "execution_count": 6,
   "id": "b4d0a40c",
   "metadata": {},
   "outputs": [],
   "source": [
    "sehirler_ve_yemekler_2[0][\"yemekler\"].append(\"Balık Ekmek\")"
   ]
  },
  {
   "cell_type": "code",
   "execution_count": 7,
   "id": "1b2a5b42",
   "metadata": {},
   "outputs": [
    {
     "data": {
      "text/plain": [
       "[{'şehir': 'İstanbul',\n",
       "  'yemekler': ['İskender', 'Mıhlama', 'Lahmacun', 'Balık Ekmek']},\n",
       " {'şehir': 'Ankara',\n",
       "  'yemekler': ['Beypazarı Kurusu', 'Ankara Tava', 'Gözleme']},\n",
       " {'şehir': 'İzmir', 'yemekler': ['Boyoz', 'Kumru', 'İzmir Köfte']},\n",
       " {'şehir': 'Antalya', 'yemekler': ['Piyaz', 'Tandır', 'Döner']},\n",
       " {'şehir': 'Trabzon',\n",
       "  'yemekler': ['Kuymak', 'Akçaabat Köftesi', 'Hamsi Tava']},\n",
       " {'şehir': 'Bursa', 'yemekler': ['İskender', 'Cantık', 'Kestane Şekeri']}]"
      ]
     },
     "execution_count": 7,
     "metadata": {},
     "output_type": "execute_result"
    }
   ],
   "source": [
    "sehirler_ve_yemekler_2"
   ]
  },
  {
   "cell_type": "markdown",
   "id": "a0b0f51c",
   "metadata": {},
   "source": [
    "3. 'Ankara' şehrini listeden çıkarın."
   ]
  },
  {
   "cell_type": "code",
   "execution_count": 8,
   "id": "d589c76e",
   "metadata": {},
   "outputs": [
    {
     "data": {
      "text/plain": [
       "{'şehir': 'Ankara', 'yemekler': ['Beypazarı Kurusu', 'Ankara Tava', 'Gözleme']}"
      ]
     },
     "execution_count": 8,
     "metadata": {},
     "output_type": "execute_result"
    }
   ],
   "source": [
    "sehirler_ve_yemekler_2.pop(1)"
   ]
  },
  {
   "cell_type": "code",
   "execution_count": 9,
   "id": "92209cad",
   "metadata": {},
   "outputs": [
    {
     "data": {
      "text/plain": [
       "[{'şehir': 'İstanbul',\n",
       "  'yemekler': ['İskender', 'Mıhlama', 'Lahmacun', 'Balık Ekmek']},\n",
       " {'şehir': 'İzmir', 'yemekler': ['Boyoz', 'Kumru', 'İzmir Köfte']},\n",
       " {'şehir': 'Antalya', 'yemekler': ['Piyaz', 'Tandır', 'Döner']},\n",
       " {'şehir': 'Trabzon',\n",
       "  'yemekler': ['Kuymak', 'Akçaabat Köftesi', 'Hamsi Tava']},\n",
       " {'şehir': 'Bursa', 'yemekler': ['İskender', 'Cantık', 'Kestane Şekeri']}]"
      ]
     },
     "execution_count": 9,
     "metadata": {},
     "output_type": "execute_result"
    }
   ],
   "source": [
    "sehirler_ve_yemekler_2"
   ]
  },
  {
   "cell_type": "markdown",
   "id": "f8f86c5a",
   "metadata": {},
   "source": [
    "7. 'Trabzon' şehrini ve yemeklerini listeye tekrar ekleyin (eğer zaten varsa, bu adımı atlayın)."
   ]
  },
  {
   "cell_type": "markdown",
   "id": "7b8c2254",
   "metadata": {},
   "source": [
    "8. Şehirler listesini alfabetik sıraya göre sıralayın."
   ]
  },
  {
   "cell_type": "code",
   "execution_count": 12,
   "id": "c9f8f666",
   "metadata": {},
   "outputs": [],
   "source": [
    "\n",
    "sehirler_ve_yemekler_3 = [\n",
    "    {\"şehir\": \"İstanbul\", \"yemekler\": [\"İskender\", \"Mıhlama\", \"Lahmacun\"]},\n",
    "    {\"şehir\": \"Ankara\", \"yemekler\": [\"Beypazarı Kurusu\", \"Ankara Tava\", \"Gözleme\"]},\n",
    "    {\"şehir\": \"İzmir\", \"yemekler\": [\"Boyoz\", \"Kumru\", \"İzmir Köfte\"]},\n",
    "    {\"şehir\": \"Antalya\", \"yemekler\": [\"Piyaz\", \"Tandır\", \"Döner\"]},\n",
    "    {\"şehir\": \"Trabzon\", \"yemekler\": [\"Kuymak\", \"Akçaabat Köftesi\", \"Hamsi Tava\"]}]"
   ]
  },
  {
   "cell_type": "code",
   "execution_count": 13,
   "id": "ab3c2151",
   "metadata": {},
   "outputs": [
    {
     "data": {
      "text/plain": [
       "['İstanbul', 'Ankara', 'İzmir', 'Antalya', 'Trabzon']"
      ]
     },
     "execution_count": 13,
     "metadata": {},
     "output_type": "execute_result"
    }
   ],
   "source": [
    "result= []\n",
    "    \n",
    "for i in sehirler_ve_yemekler_3:\n",
    "\n",
    "    x = i[\"şehir\"]\n",
    "\n",
    "    result.append(x)\n",
    "result\n",
    "    \n",
    "    "
   ]
  },
  {
   "cell_type": "code",
   "execution_count": 14,
   "id": "0d613092",
   "metadata": {},
   "outputs": [
    {
     "data": {
      "text/plain": [
       "['Ankara', 'Antalya', 'Trabzon', 'İstanbul', 'İzmir']"
      ]
     },
     "execution_count": 14,
     "metadata": {},
     "output_type": "execute_result"
    }
   ],
   "source": [
    "sorted(result)"
   ]
  },
  {
   "cell_type": "code",
   "execution_count": 15,
   "id": "00b2218d",
   "metadata": {},
   "outputs": [
    {
     "data": {
      "text/plain": [
       "'İstanbul'"
      ]
     },
     "execution_count": 15,
     "metadata": {},
     "output_type": "execute_result"
    }
   ],
   "source": [
    "sehirler_ve_yemekler_3[0][\"şehir\"]"
   ]
  }
 ],
 "metadata": {
  "kernelspec": {
   "display_name": "base",
   "language": "python",
   "name": "python3"
  },
  "language_info": {
   "codemirror_mode": {
    "name": "ipython",
    "version": 3
   },
   "file_extension": ".py",
   "mimetype": "text/x-python",
   "name": "python",
   "nbconvert_exporter": "python",
   "pygments_lexer": "ipython3",
   "version": "3.11.7"
  }
 },
 "nbformat": 4,
 "nbformat_minor": 5
}
