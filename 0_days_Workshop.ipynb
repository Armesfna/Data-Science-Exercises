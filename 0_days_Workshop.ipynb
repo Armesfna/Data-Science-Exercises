{
 "cells": [
  {
   "cell_type": "markdown",
   "metadata": {},
   "source": [
    "This study is a study in which I took questions from site https://github.com/darkprinx/break-the-ice-with-python/blob/master/Status/Day_16.md  and added my own solutions. "
   ]
  },
  {
   "cell_type": "markdown",
   "metadata": {},
   "source": []
  }
 ],
 "metadata": {
  "language_info": {
   "name": "python"
  }
 },
 "nbformat": 4,
 "nbformat_minor": 2
}
