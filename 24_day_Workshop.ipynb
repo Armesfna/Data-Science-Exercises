{
 "cells": [
  {
   "cell_type": "markdown",
   "metadata": {},
   "source": [
    "Question 100\n",
    "\n",
    "Question\n",
    "You are given words. Some words may repeat. For each word, output its number of occurrences. The output order should correspond with the input order of appearance of the word. See the sample input/output for clarification.\n",
    "\n",
    "If the following string is given as input to the program:\n",
    "\n",
    "4\n",
    "bcdef\n",
    "abcdefg\n",
    "bcde\n",
    "bcdef\n",
    "Then, the output of the program should be:\n",
    "\n",
    "3\n",
    "2 1 1\n",
    "Hints\n",
    "Make a list to get the input order and a dictionary to count the word frequency"
   ]
  },
  {
   "cell_type": "code",
   "execution_count": 3,
   "metadata": {},
   "outputs": [
    {
     "name": "stdout",
     "output_type": "stream",
     "text": [
      "3\n",
      "2 1 1 2 "
     ]
    }
   ],
   "source": [
    "# Solution 1\n",
    "n = int(input(\"Enter the number of words: \"))\n",
    "input_order = []\n",
    "word_counts = {}\n",
    "for _ in range(n):\n",
    "    word = input(\"Enter a word: \")\n",
    "    input_order.append(word)\n",
    "    word_counts[word] = word_counts.get(word, 0) + 1\n",
    "print(len(word_counts))\n",
    "for word in input_order:\n",
    "    print(word_counts[word], end=\" \")"
   ]
  },
  {
   "cell_type": "code",
   "execution_count": 2,
   "metadata": {},
   "outputs": [
    {
     "name": "stdout",
     "output_type": "stream",
     "text": [
      "3\n",
      "2 1 1 "
     ]
    }
   ],
   "source": [
    "# Solution 2\n",
    "n = int(input(\"Enter the number of words: \"))\n",
    "words = [input() for _ in range(n)]\n",
    "word_counts = {i: words.count(i) for i in set(words)}\n",
    "print(len(word_counts))\n",
    "for count in word_counts.values():\n",
    "    print(count, end=\" \")"
   ]
  },
  {
   "cell_type": "markdown",
   "metadata": {},
   "source": [
    "Question 101\n",
    "\n",
    "Question\n",
    "You are given a string.Your task is to count the frequency of letters of the string and print the letters in descending order of frequency.\n",
    "\n",
    "If the following string is given as input to the program:\n",
    "\n",
    "aabbbccde\n",
    "Then, the output of the program should be:\n",
    "\n",
    "b 3\n",
    "a 2\n",
    "c 2\n",
    "d 1\n",
    "e 1\n",
    "Hints\n",
    "Count frequency with dictionary and sort by Value from dictionary Items"
   ]
  },
  {
   "cell_type": "code",
   "execution_count": 23,
   "metadata": {},
   "outputs": [
    {
     "name": "stdout",
     "output_type": "stream",
     "text": [
      "b  3\n",
      "a  2\n",
      "c  2\n",
      "d  1\n",
      "e  1\n"
     ]
    }
   ],
   "source": [
    "# Solution 1\n",
    "letters = [i for i in  input(\"Enter the words: \")]\n",
    "word_counts = {}\n",
    "for i in letters:\n",
    "    word_counts[i] = word_counts.get(i, 0) + 1\n",
    "sorted_counts = sorted(word_counts.items(), key=lambda x: x[1], reverse=True)\n",
    "for i, j in sorted_counts:\n",
    "    print(f\"{i}  {j}\")"
   ]
  },
  {
   "cell_type": "markdown",
   "metadata": {},
   "source": [
    "Question 102\n",
    "\n",
    "Question\n",
    "Write a Python program that accepts a string and calculate the number of digits and letters.\n",
    "\n",
    "Input\n",
    "\n",
    "Hello321Bye360\n",
    "Output\n",
    "\n",
    "Digit - 6\n",
    "Letter - 8\n",
    "Hints\n",
    "Use isdigit() and isalpha() function"
   ]
  },
  {
   "cell_type": "code",
   "execution_count": 27,
   "metadata": {},
   "outputs": [
    {
     "name": "stdout",
     "output_type": "stream",
     "text": [
      "Digit - 6\n",
      "Letter - 8\n"
     ]
    }
   ],
   "source": [
    "words = input(\"Enter the words: \")\n",
    "digit_number = 0\n",
    "letters_number = 0\n",
    "for i in words:\n",
    "    if i.isdigit():\n",
    "        digit_number += 1\n",
    "    elif i.isalpha():\n",
    "        letters_number += 1\n",
    "print(f\"Digit - {digit_number}\\nLetter - {letters_number}\")\n"
   ]
  },
  {
   "cell_type": "markdown",
   "metadata": {},
   "source": [
    "Question 103\n",
    "\n",
    "Question\n",
    "Given a number N.Find Sum of 1 to N Using Recursion\n",
    "\n",
    "Input\n",
    "\n",
    "5\n",
    "Output\n",
    "\n",
    "15\n",
    "Hints\n",
    "Make a recursive function to get the sum"
   ]
  },
  {
   "cell_type": "code",
   "execution_count": 45,
   "metadata": {},
   "outputs": [
    {
     "name": "stdout",
     "output_type": "stream",
     "text": [
      "15\n"
     ]
    }
   ],
   "source": [
    "# Solution 1\n",
    "def recursive(n):\n",
    "    \n",
    "    result = 0\n",
    "    for i in range(1, n+1):\n",
    "        result += i\n",
    "    return result\n",
    "n = int(input())\n",
    "print(recursive(n))"
   ]
  },
  {
   "cell_type": "code",
   "execution_count": 28,
   "metadata": {},
   "outputs": [
    {
     "data": {
      "text/plain": [
       "15"
      ]
     },
     "execution_count": 28,
     "metadata": {},
     "output_type": "execute_result"
    }
   ],
   "source": [
    "# Solution 2\n",
    "result = 0\n",
    "for i in range(1, int(input())+1):\n",
    "    result += i\n",
    "result"
   ]
  }
 ],
 "metadata": {
  "kernelspec": {
   "display_name": "base",
   "language": "python",
   "name": "python3"
  },
  "language_info": {
   "codemirror_mode": {
    "name": "ipython",
    "version": 3
   },
   "file_extension": ".py",
   "mimetype": "text/x-python",
   "name": "python",
   "nbconvert_exporter": "python",
   "pygments_lexer": "ipython3",
   "version": "3.11.5"
  }
 },
 "nbformat": 4,
 "nbformat_minor": 2
}
