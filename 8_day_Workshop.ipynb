{
 "cells": [
  {
   "cell_type": "markdown",
   "metadata": {},
   "source": [
    "Question 22\n",
    "\n",
    "Question:\n",
    "Write a program to compute the frequency of the words from the input. The output should output after sorting the key alphanumerically.\n",
    "\n",
    "Suppose the following input is supplied to the program:\n",
    "\n",
    "New to Python or choosing between Python 2 and Python 3? Read Python 2 or Python 3.\n",
    "Then, the output should be:\n",
    "\n",
    "2:2\n",
    "3.:1\n",
    "3?:1\n",
    "New:1\n",
    "Python:5\n",
    "Read:1\n",
    "and:1\n",
    "between:1\n",
    "choosing:1\n",
    "or:2\n",
    "to:1\n",
    "Hints\n",
    "In case of input data being supplied to the question, it should be assumed to be a console input.\n",
    "\n"
   ]
  },
  {
   "cell_type": "code",
   "execution_count": null,
   "metadata": {},
   "outputs": [],
   "source": [
    "list_1 = input(\"lütfen bir cümle giriniz\").split()\n",
    "list_2 =[]\n",
    "\n",
    "for i in list_1:\n",
    "    list_2.append(list_1.count(i))\n",
    "print(dict(zip(list_1,list_2)))  "
   ]
  },
  {
   "cell_type": "code",
   "execution_count": null,
   "metadata": {},
   "outputs": [],
   "source": [
    "list_1 = input(\"lütfen bir cümle giriniz\").split()\n",
    "list_2 =[]\n",
    "\n",
    "for i in list_1:\n",
    "    list_2.append(list_1.count(i))\n",
    "    \n",
    "a=dict(zip(list_1,list_2))\n",
    "\n",
    "for word in sorted(a):\n",
    "    print(f\"{word}:{a[word]}\")"
   ]
  },
  {
   "cell_type": "code",
   "execution_count": null,
   "metadata": {},
   "outputs": [],
   "source": [
    "def letter_count(x):\n",
    "    list_1 = x.split()\n",
    "    list_2 =[]\n",
    "\n",
    "    for i in list_1:\n",
    "        list_2.append(list_1.count(i))\n",
    "    \n",
    "    print(dict(zip(list_1,list_2)))"
   ]
  },
  {
   "cell_type": "code",
   "execution_count": null,
   "metadata": {},
   "outputs": [],
   "source": [
    "letter_count(\"fat ma nur\")"
   ]
  },
  {
   "cell_type": "markdown",
   "metadata": {},
   "source": [
    "\n",
    "Question 23\n",
    "\n",
    "Question:\n",
    "Write a method which can calculate square value of number\n",
    "\n",
    "Hints:\n",
    "Using the ** operator which can be written as n**p where means n^p"
   ]
  },
  {
   "cell_type": "markdown",
   "metadata": {},
   "source": [
    "import math\n",
    "x = int(input(\"lütfen bir tam sayı girin\"))\n",
    "round(math.pow(x,2))"
   ]
  },
  {
   "cell_type": "code",
   "execution_count": null,
   "metadata": {},
   "outputs": [],
   "source": [
    "list(map(lambda x: int(x)**2 , input(\"lütfen bir tam sayı girin\")))"
   ]
  },
  {
   "cell_type": "code",
   "execution_count": null,
   "metadata": {},
   "outputs": [],
   "source": [
    "x = int(input(\"lütfen bir tam sayı girin\"))\n",
    "print(x**2)"
   ]
  },
  {
   "cell_type": "markdown",
   "metadata": {},
   "source": [
    "Question 24\n",
    "\n",
    "Question:\n",
    "Python has many built-in functions, and if you do not know how to use it, you can read document online or find some books. But Python has a built-in document function for every built-in functions.\n",
    "\n",
    "Please write a program to print some Python built-in functions documents, such as abs(), int(), raw_input()\n",
    "\n",
    "And add document for your own function\n",
    "\n",
    "Hints:\n",
    "The built-in document method is __doc__"
   ]
  },
  {
   "cell_type": "code",
   "execution_count": null,
   "metadata": {},
   "outputs": [],
   "source": [
    "print (abs.__doc__)\n",
    "print (int.__doc__)\n",
    "print (input.__doc__)\n",
    "\n",
    "def square(num):\n",
    "    '''Return the square value of the input number.\n",
    "\n",
    "    The input number must be integer.\n",
    "    '''\n",
    "    return num ** 2\n",
    "\n",
    "print (square(2))\n",
    "print (square.__doc__)"
   ]
  },
  {
   "cell_type": "markdown",
   "metadata": {},
   "source": [
    "Question 25\n",
    "\n",
    "Question:\n",
    "Define a class, which have a class parameter and have a same instance parameter.\n",
    "\n",
    "Hints:\n",
    "Define an instance parameter, need add it in __init__ method.You can init an object with construct parameter or set the value later\n"
   ]
  },
  {
   "cell_type": "code",
   "execution_count": null,
   "metadata": {},
   "outputs": [],
   "source": [
    "class Person: \n",
    "    def __init__(self,name): \n",
    "        self.name = name\n",
    "\n",
    "    def speak(self): #method\n",
    "        print(f\"{self.name} konuştu.\")\n",
    "        \n",
    "    def eat(self):   #method\n",
    "        print(f\"{self.name} yemek yedi.\")"
   ]
  },
  {
   "cell_type": "code",
   "execution_count": null,
   "metadata": {},
   "outputs": [],
   "source": [
    "class Person:  \n",
    "    def __init__(self,name, surname):\n",
    "        self.name = name\n",
    "        self.surname= surname\n",
    "\n",
    "    def speak(self): #method\n",
    "        print(f\"{self.name} {self.surname}  konuştu.\")\n",
    "        \n",
    "    def eat(self):   #method\n",
    "        print(f\"{self.name} {self.surname} yemek yedi.\")"
   ]
  },
  {
   "cell_type": "code",
   "execution_count": null,
   "metadata": {},
   "outputs": [],
   "source": [
    "insan1 = Person(name=\"selim\", surname=\"akıl\")\n",
    "insan1.speak()\n",
    "insan1.eat()"
   ]
  }
 ],
 "metadata": {
  "kernelspec": {
   "display_name": "base",
   "language": "python",
   "name": "python3"
  },
  "language_info": {
   "codemirror_mode": {
    "name": "ipython",
    "version": 3
   },
   "file_extension": ".py",
   "mimetype": "text/x-python",
   "name": "python",
   "nbconvert_exporter": "python",
   "pygments_lexer": "ipython3",
   "version": "3.11.5"
  }
 },
 "nbformat": 4,
 "nbformat_minor": 2
}
