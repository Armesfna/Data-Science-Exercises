{
 "cells": [
  {
   "cell_type": "markdown",
   "metadata": {},
   "source": [
    "Question 16\n",
    "\n",
    "Question:\n",
    "Use a list comprehension to square each odd number in a list. The list is input by a sequence of comma-separated numbers. >Suppose the following input is supplied to the program:\n",
    "\n",
    "1,2,3,4,5,6,7,8,9\n",
    "\n",
    "Then, the output should be:\n",
    "\n",
    "1,9,25,49,81\n",
    "\n",
    "Hints:\n",
    "In case of input data being supplied to the question, it should be assumed to be a console input."
   ]
  },
  {
   "cell_type": "code",
   "execution_count": 37,
   "metadata": {},
   "outputs": [
    {
     "name": "stdout",
     "output_type": "stream",
     "text": [
      "1,9,25,49,81\n"
     ]
    }
   ],
   "source": [
    "liste_1 = [str(int(i)**2) for i in input().split(\",\") if int(i) % 2 == 1]\n",
    "print(\",\".join(liste_1))"
   ]
  },
  {
   "cell_type": "code",
   "execution_count": 45,
   "metadata": {},
   "outputs": [
    {
     "name": "stdout",
     "output_type": "stream",
     "text": [
      "1,9,25,49,81\n"
     ]
    }
   ],
   "source": [
    "liste_2 = list(map( lambda x: str(int(x)**2), filter( lambda x : int(x) % 2 ==1 ,input(\" \").split(\",\"))))\n",
    "print(\",\".join(liste_2))"
   ]
  },
  {
   "cell_type": "markdown",
   "metadata": {},
   "source": [
    "Question 17\n",
    "\n",
    "Question:\n",
    "Write a program that computes the net amount of a bank account based a transaction log from console input. The transaction log format is shown as following:\n",
    "\n",
    "D 100\n",
    "\n",
    "W 200\n",
    "\n",
    "D means deposit while W means withdrawal.\n",
    "Suppose the following input is supplied to the program:\n",
    "\n",
    "D 300\n",
    "\n",
    "D 300\n",
    "\n",
    "W 200\n",
    "\n",
    "D 100\n",
    "\n",
    "Then, the output should be:\n",
    "\n",
    "500\n",
    "\n",
    "Hints:\n",
    "In case of input data being supplied to the question, it should be assumed to be a console input."
   ]
  },
  {
   "cell_type": "code",
   "execution_count": null,
   "metadata": {},
   "outputs": [],
   "source": [
    "money = 0\n",
    "while True:\n",
    "    trans = input().split(' ')\n",
    "    if trans[0] == 'D':\n",
    "        money = money + int(trans[1])\n",
    "    elif trans[0] == 'W':\n",
    "        money = money - int(trans[1])\n",
    "    print(f'Your current balance is: {money}')\n",
    "    if trans[0] == '':\n",
    "        break"
   ]
  }
 ],
 "metadata": {
  "kernelspec": {
   "display_name": "base",
   "language": "python",
   "name": "python3"
  },
  "language_info": {
   "codemirror_mode": {
    "name": "ipython",
    "version": 3
   },
   "file_extension": ".py",
   "mimetype": "text/x-python",
   "name": "python",
   "nbconvert_exporter": "python",
   "pygments_lexer": "ipython3",
   "version": "3.11.5"
  }
 },
 "nbformat": 4,
 "nbformat_minor": 2
}
