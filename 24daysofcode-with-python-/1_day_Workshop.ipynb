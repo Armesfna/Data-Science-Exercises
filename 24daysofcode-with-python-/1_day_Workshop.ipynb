{
 "cells": [
  {
   "cell_type": "markdown",
   "metadata": {},
   "source": [
    "# Example Questions"
   ]
  },
  {
   "cell_type": "markdown",
   "metadata": {},
   "source": [
    "Question 1\n",
    "\n",
    "Question:\n",
    "Write a program which will find all such numbers which are divisible by 7 but are not a multiple of 5, between 2000 and 3200 (both included).The numbers obtained should be printed in a comma-separated sequence on a single line.\n",
    "\n",
    "Hints:\n",
    "Consider use range(#begin, #end) method."
   ]
  },
  {
   "cell_type": "code",
   "execution_count": null,
   "metadata": {},
   "outputs": [],
   "source": [
    "# Solution 1:\n",
    "\n",
    "list = []\n",
    "\n",
    "for i in range(2000, 3201):\n",
    "\n",
    "    if i % 7 == 0 and i % 5 != 0:\n",
    "        list.append(i)\n",
    "    else:\n",
    "        continue\n",
    "        \n",
    "print(list)"
   ]
  },
  {
   "cell_type": "code",
   "execution_count": null,
   "metadata": {},
   "outputs": [],
   "source": [
    "# Solution 2:\n",
    "liste = [i for i in range(2000, 3201)  if i % 7 == 0 and i % 5 != 0]\n",
    "liste\n",
    "print(liste)"
   ]
  },
  {
   "cell_type": "code",
   "execution_count": null,
   "metadata": {},
   "outputs": [],
   "source": [
    "# Solution 3: \n",
    "def find_num(x):\n",
    "    if x % 7 ==0 and x % 5 != 0:\n",
    "        return True\n",
    "    else:\n",
    "        return False\n",
    "\n",
    "x = list(filter(find_num , range(2000,3201)))\n",
    "print(x)"
   ]
  },
  {
   "cell_type": "code",
   "execution_count": null,
   "metadata": {},
   "outputs": [],
   "source": [
    "# Solution 4 :\n",
    "x = list(filter(lambda x : x % 7 ==0 and x % 5 != 0, range(2000,3201)))\n",
    "print(x)"
   ]
  },
  {
   "cell_type": "markdown",
   "metadata": {},
   "source": [
    "Question 2\n",
    "\n",
    "Question:\n",
    "Write a program which can compute the factorial of a given numbers.The results should be printed in a comma-separated sequence on a single line.Suppose the following input is supplied to the program: 8 Then, the output should be:40320\n",
    "\n",
    "Hints:\n",
    "In case of input data being supplied to the question, it should be assumed to be a console input."
   ]
  },
  {
   "cell_type": "code",
   "execution_count": null,
   "metadata": {},
   "outputs": [],
   "source": [
    "# Solution 1:\n",
    "\n",
    "num = int (input(\"Please enter a positive integer.\"))\n",
    "\n",
    "faktorial = 1\n",
    "\n",
    "if num >= 0:\n",
    "\n",
    "    for i in range(1, num+1):\n",
    "    \n",
    "         faktorial *= i\n",
    "\n",
    "    print(f\"The number you entered: {num} factorial: { faktorial}\")\n",
    "\n",
    "else:\n",
    "    print(\"The entered value is incorrect. Please enter a positive integer\")"
   ]
  },
  {
   "cell_type": "code",
   "execution_count": 53,
   "metadata": {},
   "outputs": [],
   "source": [
    "# Solution 2:\n",
    "\n",
    "def factorial_number(x):\n",
    "\n",
    "    faktorial= 1\n",
    "\n",
    "    if x >= 0:\n",
    "\n",
    "        for i in range(1, x+1):\n",
    "    \n",
    "            faktorial *= i\n",
    "\n",
    "        print(f\"The number you entered: {x} factorial: {faktorial}\")\n",
    "\n",
    "    else:\n",
    "        print(\"The entered value is incorrect. Please enter a positive integer\")"
   ]
  },
  {
   "cell_type": "code",
   "execution_count": null,
   "metadata": {},
   "outputs": [],
   "source": [
    "x = int (input(\"Please enter a positive integer\"))\n",
    "\n",
    "factorial_number(x)"
   ]
  },
  {
   "cell_type": "code",
   "execution_count": null,
   "metadata": {},
   "outputs": [],
   "source": [
    "# Solution 3:\n",
    "import math\n",
    "\n",
    "x = int (input(\"Please enter a positive integer.\"))\n",
    "\n",
    "math.factorial(x)"
   ]
  },
  {
   "cell_type": "markdown",
   "metadata": {},
   "source": [
    "Question 3\n",
    "\n",
    "Question:\n",
    "With a given integral number n, write a program to generate a dictionary that contains (i, i x i) such that is an integral number between 1 and n (both included). and then the program should print the dictionary.Suppose the following input is supplied to the program: 8\n",
    "\n",
    "Then, the output should be:\n",
    "\n",
    "{1: 1, 2: 4, 3: 9, 4: 16, 5: 25, 6: 36, 7: 49, 8: 64}"
   ]
  },
  {
   "cell_type": "code",
   "execution_count": 13,
   "metadata": {},
   "outputs": [],
   "source": [
    "list = [\"without\",\"hello\",\"bag\",\"world\"]"
   ]
  },
  {
   "cell_type": "code",
   "execution_count": null,
   "metadata": {},
   "outputs": [],
   "source": [
    "# Solution 1:\n",
    "\n",
    "list.sort()\n",
    "list\n",
    "print(*list, sep=\",\")"
   ]
  },
  {
   "cell_type": "code",
   "execution_count": null,
   "metadata": {},
   "outputs": [],
   "source": [
    "# Solution 2:\n",
    "\n",
    "list_5 = [\"without\",\"hello\",\"bag\",\"world\"]\n",
    "\n",
    "list_5.sort()\n",
    "\n",
    "list_6 = \"\"\n",
    "\n",
    "for i in list_5:\n",
    "    list_6 += i + \",\"\n",
    "list_6 = list_6.rstrip(\", \")\n",
    "\n",
    "print(list_6)"
   ]
  },
  {
   "cell_type": "code",
   "execution_count": null,
   "metadata": {},
   "outputs": [],
   "source": [
    "# Solution 3:\n",
    "\n",
    "list_5 = [\"without\",\"hello\",\"bag\",\"world\"]\n",
    "\n",
    "list_5.sort()\n",
    "\n",
    "list_6 = \",\".join(list_5)\n",
    "\n",
    "print(list_6)"
   ]
  }
 ],
 "metadata": {
  "kernelspec": {
   "display_name": "base",
   "language": "python",
   "name": "python3"
  },
  "language_info": {
   "codemirror_mode": {
    "name": "ipython",
    "version": 3
   },
   "file_extension": ".py",
   "mimetype": "text/x-python",
   "name": "python",
   "nbconvert_exporter": "python",
   "pygments_lexer": "ipython3",
   "version": "3.11.5"
  }
 },
 "nbformat": 4,
 "nbformat_minor": 2
}
