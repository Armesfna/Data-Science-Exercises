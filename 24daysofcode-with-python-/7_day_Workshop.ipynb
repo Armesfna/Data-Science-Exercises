{
 "cells": [
  {
   "cell_type": "markdown",
   "metadata": {},
   "source": [
    "Question 20\n",
    "\n",
    "Question:\n",
    "Define a class with a generator which can iterate the numbers, which are divisible by 7, between a given range 0 and n.\n",
    "\n",
    "Suppose the following input is supplied to the program:\n",
    "\n",
    "7\n",
    "Then, the output should be:\n",
    "\n",
    "0\n",
    "7\n",
    "14\n",
    "Hints:\n",
    "Consider use class, function and comprehension.\n",
    "\n",
    "Main author's Solution: Python 2\n",
    "\n",
    "The solution code for this problem was not as reltive to as the problem mentioned and there was a typing mistake while calling the function."
   ]
  },
  {
   "cell_type": "code",
   "execution_count": 2,
   "metadata": {},
   "outputs": [
    {
     "data": {
      "text/plain": [
       "[7, 14, 21, 28, 35, 42, 49]"
      ]
     },
     "execution_count": 2,
     "metadata": {},
     "output_type": "execute_result"
    }
   ],
   "source": [
    "sayı = int(input(\"lütfen bir sayı girini\"))\n",
    "a = [i for i in range (1, sayı+1) if i % 7 ==0]\n",
    "a"
   ]
  },
  {
   "cell_type": "code",
   "execution_count": null,
   "metadata": {},
   "outputs": [],
   "source": [
    "'''Solution by: Seawolf159\n",
    "'''\n",
    "class Divisible:\n",
    "\n",
    "    def by_seven(self, n):\n",
    "        for number in range(1,n + 1):\n",
    "            if number % 7 == 0: yield number\n",
    "\n",
    "\n",
    "divisible = Divisible()\n",
    "generator = divisible.by_seven(int(input(\"Please insert a number. --> \")))\n",
    "for number in generator:\n",
    "    print(number)"
   ]
  },
  {
   "cell_type": "markdown",
   "metadata": {},
   "source": [
    "Question 21\n",
    "\n",
    "Question:\n",
    "A robot moves in a plane starting from the original point (0,0). The robot can move toward UP, DOWN, LEFT and RIGHT with a given steps. The trace of robot movement is shown as the following:\n",
    "\n",
    "UP 5\n",
    "DOWN 3\n",
    "LEFT 3\n",
    "RIGHT 2\n",
    "The numbers after the direction are steps. Please write a program to compute the distance from current position after a sequence of movement and original point. If the distance is a float, then just print the nearest integer. Example: If the following tuples are given as input to the program:\n",
    "\n",
    "UP 5\n",
    "DOWN 3\n",
    "LEFT 3\n",
    "RIGHT 2\n",
    "Then, the output of the program should be:\n",
    "\n",
    "2\n",
    "Hints:\n",
    "In case of input data being supplied to the question, it should be assumed to be a console input.Here distance indicates to euclidean distance.Import math module to use sqrt function.\n",
    "\n"
   ]
  },
  {
   "cell_type": "code",
   "execution_count": null,
   "metadata": {},
   "outputs": [],
   "source": [
    "from math import sqrt\n",
    "x = input(\"Please enter 4 numbers: up, down, left, right\")  \n",
    "\n",
    "liste_1 = [int(i) for i in x if i.isdigit()]\n",
    "\n",
    "x_ekseni = abs(liste_1[0] - liste_1[1])\n",
    "y_ekseni = abs(liste_1[2] - liste_1[3])\n",
    "robot_movement = round(sqrt(x_ekseni ** 2 + y_ekseni ** 2))\n",
    "print(f\"Up:{liste_1[0]} , down :{liste_1[1]}, left:{liste_1[0]}, right:{liste_1[0]}  distance: {robot_movement} \")"
   ]
  }
 ],
 "metadata": {
  "kernelspec": {
   "display_name": "base",
   "language": "python",
   "name": "python3"
  },
  "language_info": {
   "codemirror_mode": {
    "name": "ipython",
    "version": 3
   },
   "file_extension": ".py",
   "mimetype": "text/x-python",
   "name": "python",
   "nbconvert_exporter": "python",
   "pygments_lexer": "ipython3",
   "version": "3.11.5"
  }
 },
 "nbformat": 4,
 "nbformat_minor": 2
}
