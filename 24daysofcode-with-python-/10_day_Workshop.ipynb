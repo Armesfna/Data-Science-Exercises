{
 "cells": [
  {
   "cell_type": "markdown",
   "metadata": {},
   "source": [
    "Question 31\n",
    "\n",
    "Question:\n",
    "Define a function which can print a dictionary where the keys are numbers between 1 and 20 (both included) and the values are square of keys.\n",
    "\n",
    "Hints:\n",
    "Use dict[key]=value pattern to put entry into a dictionary.Use ** operator to get power of a number.Use range() for loops."
   ]
  },
  {
   "cell_type": "code",
   "execution_count": 18,
   "metadata": {},
   "outputs": [
    {
     "name": "stdout",
     "output_type": "stream",
     "text": [
      "{1: 1, 2: 4, 3: 9, 4: 16, 5: 25, 6: 36, 7: 49, 8: 64, 9: 81, 10: 100, 11: 121, 12: 144, 13: 169, 14: 196, 15: 225, 16: 256, 17: 289, 18: 324, 19: 361, 20: 400}\n"
     ]
    }
   ],
   "source": [
    "# solution 1\n",
    "\n",
    "def numbers_square():\n",
    "    numbers = list(range(1, 21))\n",
    "    numbers_sq = list(map(lambda x: x ** 2, numbers))\n",
    "    return dict(zip(numbers, numbers_sq))\n",
    "\n",
    "\n",
    "print(numbers_square())"
   ]
  },
  {
   "cell_type": "code",
   "execution_count": 24,
   "metadata": {},
   "outputs": [
    {
     "name": "stdout",
     "output_type": "stream",
     "text": [
      "{1: 1, 2: 4, 3: 9, 4: 16, 5: 25, 6: 36, 7: 49, 8: 64, 9: 81, 10: 100, 11: 121, 12: 144, 13: 169, 14: 196, 15: 225, 16: 256, 17: 289, 18: 324, 19: 361, 20: 400}\n"
     ]
    }
   ],
   "source": [
    "# solution 2\n",
    "def printDict():\n",
    "    dict={i:i**2 for i in range(1,21)}  \n",
    "    print(dict)\n",
    "\n",
    "printDict()\n",
    "    "
   ]
  },
  {
   "cell_type": "markdown",
   "metadata": {},
   "source": [
    "Question 32\n",
    "\n",
    "Question:\n",
    "Define a function which can generate a dictionary where the keys are numbers between 1 and 20 (both included) and the values are square of keys. The function should just print the keys only.\n",
    "Hints:\n",
    "Use dict[key]=value pattern to put entry into a dictionary.Use ** operator to get power of a number.Use range() for loops.Use keys() to iterate keys in the dictionary. Also we can use item() to get key/value pairs.\n",
    "\n"
   ]
  },
  {
   "cell_type": "code",
   "execution_count": 32,
   "metadata": {},
   "outputs": [
    {
     "name": "stdout",
     "output_type": "stream",
     "text": [
      "dict_keys([1, 2, 3, 4, 5, 6, 7, 8, 9, 10, 11, 12, 13, 14, 15, 16, 17, 18, 19, 20])\n"
     ]
    }
   ],
   "source": [
    "def printDict():\n",
    "    dict={i:i**2 for i in range(1,21)}  \n",
    "    print(dict.keys())\n",
    "\n",
    "printDict()"
   ]
  },
  {
   "cell_type": "markdown",
   "metadata": {},
   "source": [
    "Question 33\n",
    "\n",
    "Question:\n",
    "Define a function which can generate and print a list where the values are square of numbers between 1 and 20 (both included).\n",
    "\n",
    "Hints:\n",
    "Use ** operator to get power of a number.Use range() for loops.Use list.append() to add values into a list."
   ]
  },
  {
   "cell_type": "code",
   "execution_count": 3,
   "metadata": {},
   "outputs": [
    {
     "name": "stdout",
     "output_type": "stream",
     "text": [
      "[1, 4, 9, 16, 25, 36, 49, 64, 81, 100, 121, 144, 169, 196, 225, 256, 289, 324, 361, 400]\n"
     ]
    }
   ],
   "source": [
    "# solution 1\n",
    "def number_square():\n",
    "    list_2 = []\n",
    "    for i in range(1, 21):\n",
    "        list_2.append(i**2)\n",
    "\n",
    "    print(list_2)\n",
    "\n",
    "\n",
    "number_square()"
   ]
  },
  {
   "cell_type": "code",
   "execution_count": 5,
   "metadata": {},
   "outputs": [
    {
     "name": "stdout",
     "output_type": "stream",
     "text": [
      "[1, 4, 9, 16, 25, 36, 49, 64, 81, 100, 121, 144, 169, 196, 225, 256, 289, 324, 361, 400]\n"
     ]
    }
   ],
   "source": [
    "# solution 2\n",
    "def number_square_2():\n",
    "    list_3 = list(i**2 for i in range(1,21))\n",
    "    print(list_3)\n",
    "\n",
    "number_square_2()"
   ]
  },
  {
   "cell_type": "markdown",
   "metadata": {},
   "source": [
    "Question 34\n",
    "\n",
    "Question:\n",
    "Define a function which can generate a list where the values are square of numbers between 1 and 20 (both included). Then the function needs to print the first 5 elements in the list.\n",
    "Hints:\n",
    "Use ** operator to get power of a number.Use range() for loops.Use list.append() to add values into a list.Use [n1:n2] to slice a list\n"
   ]
  },
  {
   "cell_type": "code",
   "execution_count": 11,
   "metadata": {},
   "outputs": [
    {
     "name": "stdout",
     "output_type": "stream",
     "text": [
      "[1, 4, 9, 16, 25]\n"
     ]
    }
   ],
   "source": [
    "def number_square():\n",
    "    list_2 = []\n",
    "    for i in range(1, 21):\n",
    "        list_2.append(i**2)\n",
    "\n",
    "    print(list_2[:5])\n",
    "\n",
    "\n",
    "number_square()"
   ]
  },
  {
   "cell_type": "markdown",
   "metadata": {},
   "source": [
    "Question 35\n",
    "\n",
    "Question:\n",
    "Define a function which can generate a list where the values are square of numbers between 1 and 20 (both included). Then the function needs to print the last 5 elements in the list.\n",
    "Hints:\n",
    "Use ** operator to get power of a number.Use range() for loops.Use list.append() to add values into a list.Use [n1:n2] to slice a list\n"
   ]
  },
  {
   "cell_type": "code",
   "execution_count": 15,
   "metadata": {},
   "outputs": [
    {
     "name": "stdout",
     "output_type": "stream",
     "text": [
      "[256, 289, 324, 361, 400]\n"
     ]
    }
   ],
   "source": [
    "def number_square():\n",
    "    list_2 = []\n",
    "    for i in range(1, 21):\n",
    "        list_2.append(i**2)\n",
    "\n",
    "    print(list_2[-5:])\n",
    "\n",
    "\n",
    "number_square()"
   ]
  },
  {
   "cell_type": "markdown",
   "metadata": {},
   "source": [
    "Question 36\n",
    "\n",
    "Question:\n",
    "Define a function which can generate a list where the values are square of numbers between 1 and 20 (both included). Then the function needs to print all values except the first 5 elements in the list.\n",
    "\n",
    "Hints: Use ** operator to get power of a number.Use range() for loops.Use list.append() to add values into a list.Use [n1:n2] to slice a list\n"
   ]
  },
  {
   "cell_type": "code",
   "execution_count": 16,
   "metadata": {},
   "outputs": [
    {
     "name": "stdout",
     "output_type": "stream",
     "text": [
      "[36, 49, 64, 81, 100, 121, 144, 169, 196, 225, 256, 289, 324, 361, 400]\n"
     ]
    }
   ],
   "source": [
    "def number_square():\n",
    "    list_2 = []\n",
    "    for i in range(1, 21):\n",
    "        list_2.append(i**2)\n",
    "\n",
    "    print(list_2[5:])\n",
    "\n",
    "\n",
    "number_square()"
   ]
  },
  {
   "cell_type": "markdown",
   "metadata": {},
   "source": [
    "Question 37\n",
    "\n",
    "Question:\n",
    "Define a function which can generate and print a tuple where the value are square of numbers between 1 and 20 (both included).\n",
    "Hints:\n",
    "Use ** operator to get power of a number.Use range() for loops.Use list.append() to add values into a list.Use tuple() to get a tuple from a list.\n"
   ]
  },
  {
   "cell_type": "code",
   "execution_count": 19,
   "metadata": {},
   "outputs": [
    {
     "name": "stdout",
     "output_type": "stream",
     "text": [
      "(1, 4, 9, 16, 25, 36, 49, 64, 81, 100, 121, 144, 169, 196, 225, 256, 289, 324, 361, 400)\n"
     ]
    }
   ],
   "source": [
    "def number_square():\n",
    "    list_2 = []\n",
    "    for i in range(1, 21):\n",
    "        list_2.append(i**2)\n",
    "\n",
    "    print(tuple(list_2))\n",
    "\n",
    "\n",
    "number_square()"
   ]
  },
  {
   "cell_type": "code",
   "execution_count": 22,
   "metadata": {},
   "outputs": [
    {
     "name": "stdout",
     "output_type": "stream",
     "text": [
      "(1, 4, 9, 16, 25, 36, 49, 64, 81, 100, 121, 144, 169, 196, 225, 256, 289, 324, 361, 400)\n"
     ]
    }
   ],
   "source": [
    "def square_of_numbers():\n",
    "    return tuple(i ** 2 for i in range(1, 21))\n",
    "\n",
    "print(square_of_numbers())"
   ]
  }
 ],
 "metadata": {
  "kernelspec": {
   "display_name": "base",
   "language": "python",
   "name": "python3"
  },
  "language_info": {
   "codemirror_mode": {
    "name": "ipython",
    "version": 3
   },
   "file_extension": ".py",
   "mimetype": "text/x-python",
   "name": "python",
   "nbconvert_exporter": "python",
   "pygments_lexer": "ipython3",
   "version": "3.11.5"
  }
 },
 "nbformat": 4,
 "nbformat_minor": 2
}
