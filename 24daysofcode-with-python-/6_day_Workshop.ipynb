{
 "cells": [
  {
   "cell_type": "markdown",
   "metadata": {},
   "source": [
    "Question 18\n",
    "\n",
    "\n",
    "Question:\n",
    "A website requires the users to input username and password to register. Write a program to check the validity of password input by users.\n",
    "\n",
    "Following are the criteria for checking the password:\n",
    "\n",
    "At least 1 letter between [a-z]\n",
    "At least 1 number between [0-9]\n",
    "At least 1 letter between [A-Z]\n",
    "At least 1 character from [$#@]\n",
    "Minimum length of transaction password: 6\n",
    "Maximum length of transaction password: 12\n",
    "Your program should accept a sequence of comma separated passwords and will check them according to the above criteria. Passwords that match the criteria are to be printed, each separated by a comma.\n",
    "\n",
    "Example\n",
    "\n",
    "If the following passwords are given as input to the program:\n",
    "\n",
    "ABd1234@1,a F1#,2w3E*,2We3345\n",
    "Then, the output of the program should be:\n",
    "\n",
    "ABd1234@1\n",
    "Hints:\n",
    "In case of input data being supplied to the question, it should be assumed to be a console input.\n"
   ]
  },
  {
   "cell_type": "code",
   "execution_count": 65,
   "metadata": {},
   "outputs": [
    {
     "name": "stdout",
     "output_type": "stream",
     "text": [
      "121hsK@\n"
     ]
    }
   ],
   "source": [
    "import re\n",
    "value = []\n",
    "items = [x for x in input().split(',')]\n",
    "for p in items:\n",
    "    if len(p) < 6 or len(p) > 12:\n",
    "        continue\n",
    "    else:\n",
    "        pass\n",
    "    if not re.search(\"[a-z]\",p):\n",
    "        continue\n",
    "    elif not re.search(\"[0-9]\",p):\n",
    "        continue\n",
    "    elif not re.search(\"[A-Z]\",p):\n",
    "        continue\n",
    "    elif not re.search(\"[$#@]\",p):\n",
    "        continue\n",
    "    elif re.search(\"\\s\",p):\n",
    "        continue\n",
    "    else:\n",
    "        pass\n",
    "    value.append(p)\n",
    "print (\",\".join(value))"
   ]
  },
  {
   "cell_type": "code",
   "execution_count": 97,
   "metadata": {},
   "outputs": [],
   "source": [
    "def your_key(): \n",
    "    lower_letters = \"abcdefghijklmnopqrstuvwxyz\"\n",
    "    upper_letters = \"ABCDEFGHIJKLMNOPQRSTUVWXYZ\"\n",
    "    numbers = \"0123456789\"\n",
    "    special_chars = \"$#@\"\n",
    "    key_ = []\n",
    "\n",
    "    x = input(\"Please enter a password: \")\n",
    "    for i in x:\n",
    "        if i not in lower_letters and i not in upper_letters and i not in numbers and i not in special_chars:\n",
    "            print(\"Invalid character found\")\n",
    "            return False\n",
    "        key_.append(i)\n",
    "    print(\"Valid password:\", ''.join(key_))\n",
    "    return True"
   ]
  },
  {
   "cell_type": "code",
   "execution_count": 101,
   "metadata": {},
   "outputs": [
    {
     "data": {
      "text/plain": [
       "False"
      ]
     },
     "execution_count": 101,
     "metadata": {},
     "output_type": "execute_result"
    }
   ],
   "source": [
    "your_key()"
   ]
  },
  {
   "cell_type": "code",
   "execution_count": 103,
   "metadata": {},
   "outputs": [
    {
     "name": "stdout",
     "output_type": "stream",
     "text": [
      "\n"
     ]
    }
   ],
   "source": [
    "def is_low(x):                  \n",
    "    for i in x:\n",
    "        if 'a'<=i and i<='z':\n",
    "            return True\n",
    "    return  False\n",
    "\n",
    "def is_up(x):                  \n",
    "    for i in x:\n",
    "        if 'A'<= i and i<='Z':\n",
    "            return True\n",
    "    return  False\n",
    "\n",
    "def is_num(x):                  \n",
    "    for i in x:\n",
    "        if '0'<=i and i<='9':\n",
    "            return True\n",
    "    return  False\n",
    "\n",
    "def is_other(x):               \n",
    "    for i in x:\n",
    "        if i=='$' or i=='#' or i=='@':\n",
    "            return True\n",
    "    return False\n",
    "\n",
    "s = input().split(',')\n",
    "lst = []\n",
    "\n",
    "for i in s:\n",
    "    length = len(i)\n",
    "    if 6 <= length and length <= 12 and is_low(i) and is_up(i) and is_num(i) and is_other(i):   #Checks if all the requirments are fulfilled\n",
    "        lst.append(i)\n",
    "\n",
    "print(\",\".join(lst))"
   ]
  },
  {
   "cell_type": "markdown",
   "metadata": {},
   "source": [
    "Question 19\n",
    "\n",
    "Question:\n",
    "You are required to write a program to sort the (name, age, score) tuples by ascending order where name is string, age and score are numbers. The tuples are input by console. The sort criteria is:\n",
    "\n",
    "1: Sort based on name\n",
    "2: Then sort based on age\n",
    "3: Then sort by score\n",
    "The priority is that name > age > score.\n",
    "\n",
    "If the following tuples are given as input to the program:\n",
    "\n",
    "Tom,19,80\n",
    "John,20,90\n",
    "Jony,17,91\n",
    "Jony,17,93\n",
    "Json,21,85\n",
    "Then, the output of the program should be:\n",
    "\n",
    "[('John', '20', '90'), ('Jony', '17', '91'), ('Jony', '17', '93'), ('Json', '21', '85'), ('Tom', '19', '80')]\n",
    "Hints:\n",
    "In case of input data being supplied to the question, it should be assumed to be a console input.We use itemgetter to enable multiple sort keys.\n",
    "\n"
   ]
  },
  {
   "cell_type": "code",
   "execution_count": 2,
   "metadata": {},
   "outputs": [
    {
     "name": "stdout",
     "output_type": "stream",
     "text": [
      "John,20,90\n",
      "Jony,17,91\n",
      "Jony,17,93\n",
      "Json,21,85\n",
      "Tom,19,80\n"
     ]
    }
   ],
   "source": [
    "data = []\n",
    "\n",
    "while True:\n",
    "    inp = input(\"Enter name, age, score (or press Enter to finish): \")\n",
    "    if not inp:\n",
    "        break\n",
    "    name, age, score = inp.split(',')\n",
    "    data.append((name, int(age), int(score)))\n",
    "\n",
    "sorted_data = sorted(data, key=lambda x: (x[0], x[1], x[2]))\n",
    "\n",
    "print(sorted_data)"
   ]
  }
 ],
 "metadata": {
  "kernelspec": {
   "display_name": "base",
   "language": "python",
   "name": "python3"
  },
  "language_info": {
   "codemirror_mode": {
    "name": "ipython",
    "version": 3
   },
   "file_extension": ".py",
   "mimetype": "text/x-python",
   "name": "python",
   "nbconvert_exporter": "python",
   "pygments_lexer": "ipython3",
   "version": "3.11.5"
  }
 },
 "nbformat": 4,
 "nbformat_minor": 2
}
