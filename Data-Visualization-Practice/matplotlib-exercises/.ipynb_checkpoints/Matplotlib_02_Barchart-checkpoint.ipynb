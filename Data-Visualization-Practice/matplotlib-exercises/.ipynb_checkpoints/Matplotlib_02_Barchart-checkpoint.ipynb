{
 "cells": [
  {
   "cell_type": "code",
   "execution_count": 3,
   "id": "9442e477",
   "metadata": {
    "ExecuteTime": {
     "end_time": "2024-03-31T07:12:02.153554Z",
     "start_time": "2024-03-31T07:12:02.145692Z"
    }
   },
   "outputs": [],
   "source": [
    "import numpy as np\n",
    "import pandas as pd\n",
    "import matplotlib.pyplot as plt\n",
    "import seaborn as sns\n",
    "import plotly as py"
   ]
  },
  {
   "cell_type": "code",
   "execution_count": 4,
   "id": "6afb9aa8",
   "metadata": {
    "ExecuteTime": {
     "end_time": "2024-03-31T07:12:02.321113Z",
     "start_time": "2024-03-31T07:12:02.308809Z"
    }
   },
   "outputs": [],
   "source": [
    "import cvs\n",
    "with open (\"data_02_Barchart\") as csv_file:"
   ]
  },
  {
   "cell_type": "code",
   "execution_count": null,
   "id": "b581ec4d",
   "metadata": {},
   "outputs": [],
   "source": [
    "# Bar chart of most popular programming languages\n",
    "import numpy as np\n",
    "from matplotlib import pyplot as plt\n",
    "\n",
    "plt.style.use(\"fivethirtyeight\")\n",
    "\n",
    "np.read_\n",
    "\n",
    "# plt.title('Median Salary (USD) by Age')\n",
    "# plt.xlabel('Ages')\n",
    "# plt.ylabel('Median Salary (USD)')\n",
    "# plt.grid(True) # adds grit\n",
    "# plt.tight_layout() # In cases involving subgraphs, overlap may occur. It fixes this.\n",
    "# plt.show()  #Show chart"
   ]
  },
  {
   "cell_type": "code",
   "execution_count": null,
   "id": "02888e00",
   "metadata": {},
   "outputs": [],
   "source": []
  }
 ],
 "metadata": {
  "hide_input": false,
  "kernelspec": {
   "display_name": "Python 3 (ipykernel)",
   "language": "python",
   "name": "python3"
  },
  "language_info": {
   "codemirror_mode": {
    "name": "ipython",
    "version": 3
   },
   "file_extension": ".py",
   "mimetype": "text/x-python",
   "name": "python",
   "nbconvert_exporter": "python",
   "pygments_lexer": "ipython3",
   "version": "3.11.7"
  },
  "toc": {
   "base_numbering": 1,
   "nav_menu": {},
   "number_sections": true,
   "sideBar": true,
   "skip_h1_title": false,
   "title_cell": "Table of Contents",
   "title_sidebar": "Contents",
   "toc_cell": false,
   "toc_position": {},
   "toc_section_display": true,
   "toc_window_display": false
  },
  "varInspector": {
   "cols": {
    "lenName": 16,
    "lenType": 16,
    "lenVar": 40
   },
   "kernels_config": {
    "python": {
     "delete_cmd_postfix": "",
     "delete_cmd_prefix": "del ",
     "library": "var_list.py",
     "varRefreshCmd": "print(var_dic_list())"
    },
    "r": {
     "delete_cmd_postfix": ") ",
     "delete_cmd_prefix": "rm(",
     "library": "var_list.r",
     "varRefreshCmd": "cat(var_dic_list()) "
    }
   },
   "types_to_exclude": [
    "module",
    "function",
    "builtin_function_or_method",
    "instance",
    "_Feature"
   ],
   "window_display": false
  }
 },
 "nbformat": 4,
 "nbformat_minor": 5
}
